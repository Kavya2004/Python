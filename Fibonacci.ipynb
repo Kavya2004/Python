{
 "cells": [
  {
   "cell_type": "code",
   "execution_count": 1,
   "metadata": {},
   "outputs": [
    {
     "name": "stdout",
     "output_type": "stream",
     "text": [
      "0\n",
      "1\n",
      "2\n",
      "3\n",
      "4\n",
      "5\n",
      "6\n",
      "7\n",
      "8\n",
      "9\n"
     ]
    }
   ],
   "source": [
    "for i in range(0,10):\n",
    "    print(i)\n",
    "    i=i+1"
   ]
  },
  {
   "cell_type": "code",
   "execution_count": null,
   "metadata": {},
   "outputs": [],
   "source": [
    "while(i==2):\n",
    "    pass"
   ]
  },
  {
   "cell_type": "code",
   "execution_count": 3,
   "metadata": {},
   "outputs": [
    {
     "name": "stdout",
     "output_type": "stream",
     "text": [
      "Enter the value of 'n': 8\n",
      "Fibonacci Series:  0 1 1 2 3 5 8 13 "
     ]
    }
   ],
   "source": [
    "#Python program to generate Fibonacci series until 'n' value\n",
    "n = int(input(\"Enter the value of 'n': \"))\n",
    "a = 0\n",
    "b = 1\n",
    "sum = 0\n",
    "count = 1\n",
    "print(\"Fibonacci Series: \", end = \" \")\n",
    "while(count <= n):\n",
    "  print(sum, end = \" \")\n",
    "  count += 1\n",
    "  a = b\n",
    "  b = sum\n",
    "  sum = a + b"
   ]
  },
  {
   "cell_type": "code",
   "execution_count": 1,
   "metadata": {},
   "outputs": [
    {
     "name": "stdout",
     "output_type": "stream",
     "text": [
      "Enter n : 3\n",
      "0 1 1 "
     ]
    }
   ],
   "source": [
    "#Fibonacci series\n",
    "#0,1,1,2,3,5,8........\n",
    "n = int(input(\"Enter n : \"))\n",
    "x = 0\n",
    "y = 1\n",
    "print(x,end=\" \")\n",
    "print(y,end=\" \")\n",
    "for i in range (3,n+1):\n",
    "    z = x+y\n",
    "    x=y\n",
    "    y=z\n",
    "    print(z, end=\" \")"
   ]
  },
  {
   "cell_type": "code",
   "execution_count": 11,
   "metadata": {},
   "outputs": [
    {
     "name": "stdout",
     "output_type": "stream",
     "text": [
      "Enter the number : 2\n",
      "Enter the number of digits : 2\n",
      "5\n",
      "9\n"
     ]
    }
   ],
   "source": [
    "#1+x+x^2+x^3.....x^n\n",
    "x = int(input(\"Enter the number : \"))\n",
    "n = int(input(\"Enter the number of digits : \"))\n",
    "p = 1\n",
    "mult = x\n",
    "for i in range (0,n):\n",
    "    mult = mult*x\n",
    "    z = p + mult\n",
    "    print(z)"
   ]
  },
  {
   "cell_type": "code",
   "execution_count": 24,
   "metadata": {},
   "outputs": [
    {
     "name": "stdout",
     "output_type": "stream",
     "text": [
      "Enter the number : 2\n",
      "Enter the number of digits : 4\n",
      "-5\n"
     ]
    }
   ],
   "source": [
    "# 1-x+x^2-x^3.......\n",
    "x = int(input(\"Enter the number : \"))\n",
    "n = int(input(\"Enter the number of digits : \"))\n",
    "z = 1\n",
    "mult = 1\n",
    "for i in range (1,n):\n",
    "    if  i%2==0:\n",
    "        mult = mult*x \n",
    "        z = mult+z\n",
    "    else:\n",
    "        mult=mult*x\n",
    "        z = z - mult\n",
    "print(z)"
   ]
  },
  {
   "cell_type": "code",
   "execution_count": 5,
   "metadata": {},
   "outputs": [
    {
     "name": "stdout",
     "output_type": "stream",
     "text": [
      "(2+3j)\n",
      "10.0\n",
      "983963511824\n",
      "<class 'float'>\n"
     ]
    }
   ],
   "source": [
    "a= 10.0\n",
    "t = 2+3j\n",
    "print(t)\n",
    "print(a)\n",
    "print(id(a))\n",
    "print(type(a))"
   ]
  },
  {
   "cell_type": "code",
   "execution_count": 12,
   "metadata": {},
   "outputs": [
    {
     "name": "stdout",
     "output_type": "stream",
     "text": [
      "False\n"
     ]
    }
   ],
   "source": [
    "print(2**3+4/2 < 4%3 and 3*12> 3+34)#8+4/2=10 not less than 1.33, 36 is not greater than 37"
   ]
  },
  {
   "cell_type": "code",
   "execution_count": 4,
   "metadata": {},
   "outputs": [
    {
     "name": "stdout",
     "output_type": "stream",
     "text": [
      "15\n"
     ]
    }
   ],
   "source": [
    "a = 10\n",
    "b = 5\n",
    "a = eval('a+b')\n",
    "print(a)"
   ]
  },
  {
   "cell_type": "code",
   "execution_count": 5,
   "metadata": {},
   "outputs": [
    {
     "name": "stdout",
     "output_type": "stream",
     "text": [
      "true\n"
     ]
    }
   ],
   "source": [
    "if 30>20:\n",
    "    print(\"true\")\n",
    "else:\n",
    "    (\"false\")"
   ]
  },
  {
   "cell_type": "code",
   "execution_count": 7,
   "metadata": {},
   "outputs": [
    {
     "name": "stdout",
     "output_type": "stream",
     "text": [
      "Enter your age : 18\n",
      "Eligible\n"
     ]
    }
   ],
   "source": [
    "x = int(input(\"Enter your age : \"))\n",
    "if x>=18:\n",
    "    print(\"Eligible\")\n",
    "elif 0<=x<18:\n",
    "    print(\"Not eligible\")\n",
    "else:\n",
    "    print(\"you have entered the wrong age.\")\n",
    "    "
   ]
  },
  {
   "cell_type": "code",
   "execution_count": null,
   "metadata": {},
   "outputs": [],
   "source": [
    "x = int(input(\"Enter the number : \"))\n",
    "if x%7==0:\n",
    "    print(\"Divisible by 7\")\n",
    "else:\n",
    "    print(\"Not divisible by 7\")"
   ]
  },
  {
   "cell_type": "code",
   "execution_count": 14,
   "metadata": {},
   "outputs": [
    {
     "name": "stdout",
     "output_type": "stream",
     "text": [
      "Enter your number : 2\n",
      "Enter the power (n) :3\n",
      "Sum of first 3 digits is -5\n"
     ]
    }
   ],
   "source": [
    "# 1-x+x^2-x^3.......\n",
    "x = int(input(\"Enter your number : \"))\n",
    "n = int(input(\"Enter the power (n) :\"))\n",
    "s = 0\n",
    "sign = +1\n",
    "for i in range(n+1):\n",
    "    term = (x**i)*sign\n",
    "    s = s+term\n",
    "    sign*=-1\n",
    "print(\"Sum of first\", n ,\"digits is\", s )"
   ]
  },
  {
   "cell_type": "code",
   "execution_count": null,
   "metadata": {},
   "outputs": [],
   "source": []
  }
 ],
 "metadata": {
  "kernelspec": {
   "display_name": "Python 3",
   "language": "python",
   "name": "python3"
  },
  "language_info": {
   "codemirror_mode": {
    "name": "ipython",
    "version": 3
   },
   "file_extension": ".py",
   "mimetype": "text/x-python",
   "name": "python",
   "nbconvert_exporter": "python",
   "pygments_lexer": "ipython3",
   "version": "3.8.5"
  }
 },
 "nbformat": 4,
 "nbformat_minor": 4
}
