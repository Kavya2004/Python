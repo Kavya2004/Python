{
 "cells": [
  {
   "cell_type": "code",
   "execution_count": 1,
   "metadata": {},
   "outputs": [
    {
     "name": "stdout",
     "output_type": "stream",
     "text": [
      "{1: 3, 2: 4}\n"
     ]
    }
   ],
   "source": [
    "x = [1,2]\n",
    "y = [3,4]\n",
    "t = dict(zip(x,y))\n",
    "print(t)"
   ]
  },
  {
   "cell_type": "code",
   "execution_count": null,
   "metadata": {},
   "outputs": [],
   "source": [
    "#create a dictionary with roll no, marks and name and display the child with marks more than 75\n",
    "n = int(input(\"Enter number of students: \"))\n",
    "d={}\n",
    "for i in range(n):\n",
    "    r = int(input(\"Enter roll number: \"))\n",
    "    name = input(\"Enter name: \")\n",
    "    marks = int(input(\"Enter marks: \"))\n",
    "    d[r]=[name,marks]\n",
    "print(d)\n",
    "for j in d:\n",
    "    if (d[j][1]>75):\n",
    "        print(d[j][0])"
   ]
  },
  {
   "cell_type": "code",
   "execution_count": 5,
   "metadata": {},
   "outputs": [
    {
     "name": "stdout",
     "output_type": "stream",
     "text": [
      "3\n"
     ]
    }
   ],
   "source": [
    "t = {1: 3, 2: 4}\n",
    "print(t[1])"
   ]
  },
  {
   "cell_type": "code",
   "execution_count": 3,
   "metadata": {},
   "outputs": [
    {
     "data": {
      "text/plain": [
       "True"
      ]
     },
     "execution_count": 3,
     "metadata": {},
     "output_type": "execute_result"
    }
   ],
   "source": [
    "d = {\"john\":40, \"peter\":45}\n",
    "\"john\" in d"
   ]
  },
  {
   "cell_type": "code",
   "execution_count": 4,
   "metadata": {},
   "outputs": [
    {
     "data": {
      "text/plain": [
       "False"
      ]
     },
     "execution_count": 4,
     "metadata": {},
     "output_type": "execute_result"
    }
   ],
   "source": [
    "d = {\"john\":40, \"peter\":45}\n",
    "40 in d"
   ]
  },
  {
   "cell_type": "code",
   "execution_count": 7,
   "metadata": {},
   "outputs": [
    {
     "data": {
      "text/plain": [
       "False"
      ]
     },
     "execution_count": 7,
     "metadata": {},
     "output_type": "execute_result"
    }
   ],
   "source": [
    "d = {\"john\":40, \"peter\":45}\n",
    "d1 = {\"john\":466, \"peter\":45}\n",
    "d==d1"
   ]
  },
  {
   "cell_type": "code",
   "execution_count": 9,
   "metadata": {},
   "outputs": [
    {
     "data": {
      "text/plain": [
       "40"
      ]
     },
     "execution_count": 9,
     "metadata": {},
     "output_type": "execute_result"
    }
   ],
   "source": [
    "d = {\"john\":40, \"peter\":45}\n",
    "d[\"john\"]"
   ]
  },
  {
   "cell_type": "code",
   "execution_count": 14,
   "metadata": {},
   "outputs": [
    {
     "name": "stdout",
     "output_type": "stream",
     "text": [
      "{'peter': 45}\n"
     ]
    }
   ],
   "source": [
    "d = {\"john\":40, \"peter\":45}\n",
    "del d[\"john\"] #deletes the john's value\n",
    "print(d)"
   ]
  },
  {
   "cell_type": "code",
   "execution_count": 15,
   "metadata": {},
   "outputs": [
    {
     "data": {
      "text/plain": [
       "2"
      ]
     },
     "execution_count": 15,
     "metadata": {},
     "output_type": "execute_result"
    }
   ],
   "source": [
    "d = {\"john\":40, \"peter\":45}\n",
    "len(d)"
   ]
  },
  {
   "cell_type": "code",
   "execution_count": 16,
   "metadata": {},
   "outputs": [
    {
     "name": "stdout",
     "output_type": "stream",
     "text": [
      "['john', 'peter']\n"
     ]
    }
   ],
   "source": [
    "d = {\"john\":40, \"peter\":45}\n",
    "print(list(d.keys())) #d.keys give all the keys d.value gives all the values here like 40 and 45\n",
    "#keys are words values are numbers"
   ]
  },
  {
   "cell_type": "code",
   "execution_count": 1,
   "metadata": {},
   "outputs": [
    {
     "name": "stdout",
     "output_type": "stream",
     "text": [
      "dict_values([40, 90])\n"
     ]
    }
   ],
   "source": [
    "d = {\"John\":40, \"David\":90}\n",
    "print(d.values())"
   ]
  },
  {
   "cell_type": "code",
   "execution_count": 4,
   "metadata": {},
   "outputs": [
    {
     "name": "stdout",
     "output_type": "stream",
     "text": [
      "1 A\n",
      "2 B\n",
      "3 C\n"
     ]
    }
   ],
   "source": [
    "a = {1:\"A\",2:\"B\",3:\"C\"}\n",
    "for i,j in a.items():\n",
    "    print(i,j)"
   ]
  },
  {
   "cell_type": "code",
   "execution_count": 5,
   "metadata": {},
   "outputs": [
    {
     "name": "stdout",
     "output_type": "stream",
     "text": [
      "{'brand': 'Ford', 'year': 1964}\n"
     ]
    }
   ],
   "source": [
    "x = {\n",
    "    \"brand\":\"Ford\",\n",
    "    \"year\":1964\n",
    "}\n",
    "print(x)"
   ]
  },
  {
   "cell_type": "code",
   "execution_count": 6,
   "metadata": {},
   "outputs": [
    {
     "name": "stdout",
     "output_type": "stream",
     "text": [
      "Ford\n"
     ]
    }
   ],
   "source": [
    "x = {\n",
    "    \"brand\":\"Ford\",\n",
    "    \"year\":1964\n",
    "}\n",
    "print(x[\"brand\"]) #shows the keys"
   ]
  },
  {
   "cell_type": "code",
   "execution_count": 8,
   "metadata": {},
   "outputs": [
    {
     "name": "stdout",
     "output_type": "stream",
     "text": [
      "{'brand': 'Ford', 'year': 1964}\n",
      "{'brand': 'Maruti', 'year': 1964}\n"
     ]
    }
   ],
   "source": [
    "x = {\n",
    "    \"brand\":\"Ford\",\n",
    "    \"year\":1964\n",
    "}\n",
    "print(x)\n",
    "x[\"brand\"]=\"Maruti\"\n",
    "print(x)"
   ]
  },
  {
   "cell_type": "code",
   "execution_count": 9,
   "metadata": {},
   "outputs": [
    {
     "name": "stdout",
     "output_type": "stream",
     "text": [
      "2\n"
     ]
    }
   ],
   "source": [
    "x = {\n",
    "    \"brand\":\"Ford\",\n",
    "    \"year\":1964, \n",
    "    \"year\":1964\n",
    "}\n",
    "print(len(x)) #takes repititive value of only 1"
   ]
  },
  {
   "cell_type": "code",
   "execution_count": 11,
   "metadata": {},
   "outputs": [
    {
     "name": "stdout",
     "output_type": "stream",
     "text": [
      "2\n",
      "2000\n"
     ]
    }
   ],
   "source": [
    "x = {\n",
    "    \"brand\":\"Ford\",\n",
    "    \"year\":1964, \n",
    "    \"year\":2000\n",
    "} \n",
    "print(len(x)) #doesnt consider even if the same key has diff value\n",
    "print(x[\"year\"])"
   ]
  },
  {
   "cell_type": "code",
   "execution_count": 12,
   "metadata": {},
   "outputs": [
    {
     "name": "stdout",
     "output_type": "stream",
     "text": [
      "<class 'dict'>\n"
     ]
    }
   ],
   "source": [
    "x = {\n",
    "    \"brand\":\"Ford\",\n",
    "    \"year\":1964, \n",
    "    \"year\":1964\n",
    "}\n",
    "print(type(x))"
   ]
  },
  {
   "cell_type": "code",
   "execution_count": null,
   "metadata": {},
   "outputs": [],
   "source": [
    "x = {\n",
    "    \"brand\":\"Ford\",\n",
    "    \"year\":1964, \n",
    "    \"year\":1964\n",
    "}\n",
    "print(len(x))"
   ]
  },
  {
   "cell_type": "code",
   "execution_count": 6,
   "metadata": {},
   "outputs": [
    {
     "name": "stdout",
     "output_type": "stream",
     "text": [
      "dict_keys(['brand', 'year'])\n",
      "{'brand': 'Ford', 'year': 1964, 'color': 'white'}\n"
     ]
    }
   ],
   "source": [
    "x = {\n",
    "    \"brand\":\"Ford\",\n",
    "    \"year\":1964, \n",
    "}\n",
    "y = x.keys()\n",
    "print(y)\n",
    "x[\"color\"] = \"white\" #add a key\n",
    "print(x)"
   ]
  },
  {
   "cell_type": "raw",
   "metadata": {},
   "source": [
    "Dictionary is a collection which is ordered and unchangable. No duplicate members."
   ]
  },
  {
   "cell_type": "code",
   "execution_count": 16,
   "metadata": {},
   "outputs": [
    {
     "name": "stdout",
     "output_type": "stream",
     "text": [
      "dict_items([('brand', 'Ford'), ('year', 1964)])\n"
     ]
    }
   ],
   "source": [
    "x = {\n",
    "    \"brand\":\"Ford\",\n",
    "    \"year\":1964, \n",
    "    \"year\":1964\n",
    "}\n",
    "print(x.items()) #items gives both keys and values"
   ]
  },
  {
   "cell_type": "code",
   "execution_count": 17,
   "metadata": {},
   "outputs": [
    {
     "name": "stdout",
     "output_type": "stream",
     "text": [
      "Yes brand is one of the keys in dictionary\n"
     ]
    }
   ],
   "source": [
    "x = {\n",
    "    \"brand\":\"Ford\",\n",
    "    \"year\":1964, \n",
    "    \"year\":1964\n",
    "}\n",
    "if \"brand\" in x:\n",
    "    print(\"Yes brand is one of the keys in dictionary\")\n",
    "else:\n",
    "    print(\"no\")"
   ]
  },
  {
   "cell_type": "raw",
   "metadata": {},
   "source": [
    "how to check for value in dictionary"
   ]
  },
  {
   "cell_type": "code",
   "execution_count": 18,
   "metadata": {},
   "outputs": [
    {
     "name": "stdout",
     "output_type": "stream",
     "text": [
      "{'brand': 'Ford', 'year': 2000}\n"
     ]
    }
   ],
   "source": [
    "x = {\n",
    "    \"brand\":\"Ford\",\n",
    "    \"year\":1964, \n",
    "}\n",
    "x.update({\"year\":2000})\n",
    "print(x)"
   ]
  },
  {
   "cell_type": "code",
   "execution_count": 19,
   "metadata": {},
   "outputs": [
    {
     "name": "stdout",
     "output_type": "stream",
     "text": [
      "{'brand': 'Ford', 'year': 2000}\n",
      "{'brand': 'Ford', 'year': 2009}\n"
     ]
    }
   ],
   "source": [
    "x = {\n",
    "    \"brand\":\"Ford\",\n",
    "    \"year\":1964, \n",
    "}\n",
    "x.update({\"year\":2000})\n",
    "print(x)\n",
    "x[\"year\"]=2009 #2nd way to update\n",
    "print(x)"
   ]
  },
  {
   "cell_type": "code",
   "execution_count": 3,
   "metadata": {},
   "outputs": [
    {
     "name": "stdout",
     "output_type": "stream",
     "text": [
      "{}\n"
     ]
    }
   ],
   "source": [
    "x = {\n",
    "    \"brand\":\"Ford\",\n",
    "    \"year\":1964, \n",
    "}\n",
    "x.clear() #deletes all the elements\n",
    "print(x)"
   ]
  },
  {
   "cell_type": "code",
   "execution_count": 5,
   "metadata": {},
   "outputs": [
    {
     "name": "stdout",
     "output_type": "stream",
     "text": [
      "{'year': 1964}\n"
     ]
    }
   ],
   "source": [
    "x = {\n",
    "    \"brand\":\"Ford\",\n",
    "    \"year\":1964, \n",
    "}\n",
    "del x[\"brand\"] #deletes the specific element\n",
    "print(x)"
   ]
  },
  {
   "cell_type": "code",
   "execution_count": 3,
   "metadata": {},
   "outputs": [
    {
     "name": "stdout",
     "output_type": "stream",
     "text": [
      "{'key1': None, 'key2': None, 'key3': None}\n"
     ]
    }
   ],
   "source": [
    "x = ('key1', 'key2', 'key3')\n",
    "y=0\n",
    "thisdict = dict.fromkeys(x)\n",
    "print(thisdict)"
   ]
  },
  {
   "cell_type": "code",
   "execution_count": 8,
   "metadata": {},
   "outputs": [
    {
     "name": "stdout",
     "output_type": "stream",
     "text": [
      "{'k': 0, 'e': 0, 'y': 0, '1': 0, '2': 0}\n"
     ]
    }
   ],
   "source": [
    "x = 'key1key2'\n",
    "y=0\n",
    "thisdict = dict.fromkeys(x,y)\n",
    "print(thisdict)"
   ]
  },
  {
   "cell_type": "code",
   "execution_count": 9,
   "metadata": {},
   "outputs": [
    {
     "name": "stdout",
     "output_type": "stream",
     "text": [
      "{'k': [1, 2, 3], 'e': [1, 2, 3], 'y': [1, 2, 3], '1': [1, 2, 3], '2': [1, 2, 3]}\n"
     ]
    }
   ],
   "source": [
    "x = 'key1key2'\n",
    "y=[1,2,3]\n",
    "thisdict = dict.fromkeys(x,y)\n",
    "print(thisdict)"
   ]
  },
  {
   "cell_type": "code",
   "execution_count": 10,
   "metadata": {},
   "outputs": [
    {
     "name": "stdout",
     "output_type": "stream",
     "text": [
      "{'k': ['eng', 'hindi', 3], 'e': ['eng', 'hindi', 3], 'y': ['eng', 'hindi', 3], '1': ['eng', 'hindi', 3], '2': ['eng', 'hindi', 3]}\n"
     ]
    }
   ],
   "source": [
    "x = 'key1key2'\n",
    "y=[\"eng\",\"hindi\",3]\n",
    "thisdict = dict.fromkeys(x,y)\n",
    "print(thisdict)"
   ]
  },
  {
   "cell_type": "code",
   "execution_count": 11,
   "metadata": {},
   "outputs": [
    {
     "name": "stdout",
     "output_type": "stream",
     "text": [
      "brand Ford\n",
      "year 1964\n",
      "{'brand': 'Ford', 'year': 1964}\n"
     ]
    }
   ],
   "source": [
    "x = {\n",
    "    \"brand\":\"Ford\",\n",
    "    \"year\":1964, \n",
    "}\n",
    "y = x.items()\n",
    "for i,j in x.items():\n",
    "    print(i,j)\n",
    "print(x)"
   ]
  },
  {
   "cell_type": "code",
   "execution_count": 12,
   "metadata": {},
   "outputs": [
    {
     "name": "stdout",
     "output_type": "stream",
     "text": [
      "Ford Ford\n"
     ]
    }
   ],
   "source": [
    "x = {\n",
    "    \"brand\":\"Ford\",\n",
    "    \"year\":1964, \n",
    "}\n",
    "y = x.get(\"brand\")\n",
    "z = x[\"brand\"]\n",
    "print(y,z)"
   ]
  },
  {
   "cell_type": "code",
   "execution_count": 2,
   "metadata": {},
   "outputs": [
    {
     "name": "stdout",
     "output_type": "stream",
     "text": [
      "Keys : Values\n",
      "1 : Math\n",
      "2 : English\n",
      "3 : Computer Science\n"
     ]
    }
   ],
   "source": [
    "d = {'1':'Math', '2':'English', '3':'Computer Science'}\n",
    "print(\"Keys : Values\")\n",
    "for i in d:\n",
    "    print(i,':',d[i])"
   ]
  },
  {
   "cell_type": "code",
   "execution_count": 3,
   "metadata": {},
   "outputs": [
    {
     "data": {
      "text/plain": [
       "dict_keys(['1', '2', '3'])"
      ]
     },
     "execution_count": 3,
     "metadata": {},
     "output_type": "execute_result"
    }
   ],
   "source": [
    "d = {'1':'Math', '2':'English', '3':'Computer Science'}\n",
    "d.keys()"
   ]
  },
  {
   "cell_type": "code",
   "execution_count": 4,
   "metadata": {},
   "outputs": [
    {
     "data": {
      "text/plain": [
       "dict_values(['Math', 'English', 'Computer Science'])"
      ]
     },
     "execution_count": 4,
     "metadata": {},
     "output_type": "execute_result"
    }
   ],
   "source": [
    "d = {'1':'Math', '2':'English', '3':'Computer Science'}\n",
    "d.values()"
   ]
  },
  {
   "cell_type": "code",
   "execution_count": 25,
   "metadata": {},
   "outputs": [
    {
     "name": "stdout",
     "output_type": "stream",
     "text": [
      "{'1': 'Math', '2': 'English', '3': 'Computer Science', '4': 'Science'}\n",
      "4\n"
     ]
    },
    {
     "data": {
      "text/plain": [
       "dict_items([('1', 'Math'), ('2', 'English'), ('3', 'Computer Science'), ('4', 'Science')])"
      ]
     },
     "execution_count": 25,
     "metadata": {},
     "output_type": "execute_result"
    }
   ],
   "source": [
    "d = {'1':'Math', '2':'English', '3':'Computer Science'}\n",
    "d['4']='Science'\n",
    "print(d)\n",
    "print(len(d))\n",
    "d.get('3')\n",
    "d.items()\n"
   ]
  },
  {
   "cell_type": "code",
   "execution_count": 32,
   "metadata": {},
   "outputs": [
    {
     "name": "stdout",
     "output_type": "stream",
     "text": [
      "{'1': 'Math', '2': 'English', '3': 'Computer Science', '4': 'Science'}\n",
      "('4', 'Science')\n"
     ]
    }
   ],
   "source": [
    "d = {'1':'Math', '2':'English', '3':'Computer Science'}\n",
    "d['4']='Science'\n",
    "print(d)\n",
    "y = d.popitem() \n",
    "print(y)"
   ]
  },
  {
   "cell_type": "code",
   "execution_count": 36,
   "metadata": {},
   "outputs": [
    {
     "name": "stdout",
     "output_type": "stream",
     "text": [
      "4\n"
     ]
    }
   ],
   "source": [
    "k = {1:\"kavya\", 3:\"Neha\"}\n",
    "m = sum(k)\n",
    "print(m)"
   ]
  },
  {
   "cell_type": "code",
   "execution_count": 22,
   "metadata": {},
   "outputs": [
    {
     "name": "stdout",
     "output_type": "stream",
     "text": [
      "{1: 'Hello', 2: 'Hello', 3: 'Hello', 4: 'Hello'}\n"
     ]
    }
   ],
   "source": [
    "key={1,2,3,4}\n",
    "x = dict.fromkeys(key,'Hello')\n",
    "print(x)"
   ]
  },
  {
   "cell_type": "code",
   "execution_count": 6,
   "metadata": {},
   "outputs": [
    {
     "data": {
      "text/plain": [
       "dict_keys([1, 2])"
      ]
     },
     "execution_count": 6,
     "metadata": {},
     "output_type": "execute_result"
    }
   ],
   "source": [
    "student = {1: {'Name':'Kavya', 'Age':17}, 2: {'Name':'Shreya', 'Age':16}}\n",
    "student.keys()"
   ]
  },
  {
   "cell_type": "code",
   "execution_count": 7,
   "metadata": {},
   "outputs": [
    {
     "data": {
      "text/plain": [
       "dict_values([{'Name': 'Kavya', 'Age': 17}, {'Name': 'Shreya', 'Age': 16}])"
      ]
     },
     "execution_count": 7,
     "metadata": {},
     "output_type": "execute_result"
    }
   ],
   "source": [
    "student = {1: {'Name':'Kavya', 'Age':17}, 2: {'Name':'Shreya', 'Age':16}}\n",
    "student.values()"
   ]
  },
  {
   "cell_type": "code",
   "execution_count": 8,
   "metadata": {},
   "outputs": [
    {
     "data": {
      "text/plain": [
       "{'Name': 'Kavya', 'Age': 17}"
      ]
     },
     "execution_count": 8,
     "metadata": {},
     "output_type": "execute_result"
    }
   ],
   "source": [
    "student = {1: {'Name':'Kavya', 'Age':17}, 2: {'Name':'Shreya', 'Age':16}}\n",
    "student[1]"
   ]
  },
  {
   "cell_type": "code",
   "execution_count": 9,
   "metadata": {},
   "outputs": [
    {
     "name": "stdout",
     "output_type": "stream",
     "text": [
      "{'Name': 'Kavya', 'Age': 17}\n",
      "{'Name': 'Shreya', 'Age': 16}\n"
     ]
    }
   ],
   "source": [
    "student = {1: {'Name':'Kavya', 'Age':17}, 2: {'Name':'Shreya', 'Age':16}}\n",
    "for i in student:\n",
    "    print(student[i])"
   ]
  }
 ],
 "metadata": {
  "kernelspec": {
   "display_name": "Python 3",
   "language": "python",
   "name": "python3"
  },
  "language_info": {
   "codemirror_mode": {
    "name": "ipython",
    "version": 3
   },
   "file_extension": ".py",
   "mimetype": "text/x-python",
   "name": "python",
   "nbconvert_exporter": "python",
   "pygments_lexer": "ipython3",
   "version": "3.8.5"
  }
 },
 "nbformat": 4,
 "nbformat_minor": 4
}
