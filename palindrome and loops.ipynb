{
 "cells": [
  {
   "cell_type": "code",
   "execution_count": 18,
   "metadata": {},
   "outputs": [
    {
     "name": "stdout",
     "output_type": "stream",
     "text": [
      "Enter your number : 8\n",
      "The factorial of 8 is 40320\n"
     ]
    }
   ],
   "source": [
    "#factorial of numbers\n",
    "product = 1\n",
    "x = int(input(\"Enter your number : \"))\n",
    "for i in range(1,x+1):\n",
    "    if x==0:\n",
    "        print(\"Factorial of 0 is 1\")\n",
    "    else:\n",
    "        product = product*i\n",
    "print(\"The factorial of\" ,x ,\"is\", product)   "
   ]
  },
  {
   "cell_type": "code",
   "execution_count": 18,
   "metadata": {},
   "outputs": [
    {
     "data": {
      "text/plain": [
       "20.4"
      ]
     },
     "execution_count": 18,
     "metadata": {},
     "output_type": "execute_result"
    }
   ],
   "source": [
    "7-4*10/5**2+15"
   ]
  },
  {
   "cell_type": "code",
   "execution_count": 6,
   "metadata": {},
   "outputs": [
    {
     "name": "stdout",
     "output_type": "stream",
     "text": [
      "2\n"
     ]
    }
   ],
   "source": [
    "print(10%4)"
   ]
  },
  {
   "cell_type": "code",
   "execution_count": 8,
   "metadata": {},
   "outputs": [
    {
     "name": "stdout",
     "output_type": "stream",
     "text": [
      "kk\n"
     ]
    }
   ],
   "source": [
    "print ('k' *2)"
   ]
  },
  {
   "cell_type": "code",
   "execution_count": 13,
   "metadata": {},
   "outputs": [
    {
     "name": "stdout",
     "output_type": "stream",
     "text": [
      "3\n"
     ]
    }
   ],
   "source": [
    "print(13//4)"
   ]
  },
  {
   "cell_type": "code",
   "execution_count": 15,
   "metadata": {},
   "outputs": [
    {
     "data": {
      "text/plain": [
       "-30"
      ]
     },
     "execution_count": 15,
     "metadata": {},
     "output_type": "execute_result"
    }
   ],
   "source": [
    "10-25*8//5"
   ]
  },
  {
   "cell_type": "code",
   "execution_count": 9,
   "metadata": {},
   "outputs": [
    {
     "name": "stdout",
     "output_type": "stream",
     "text": [
      "2\n",
      "4\n",
      "10987654321Loop executed successfully\n"
     ]
    }
   ],
   "source": [
    "t=10\n",
    "s=0\n",
    "for i in range(1,5,2):\n",
    "    s=s+2\n",
    "    print(s)\n",
    "while(t>0):\n",
    "    print(t, end='')\n",
    "    t=t-1\n",
    "else:\n",
    "    print(\"Loop executed successfully\")"
   ]
  },
  {
   "cell_type": "code",
   "execution_count": 5,
   "metadata": {},
   "outputs": [
    {
     "name": "stdout",
     "output_type": "stream",
     "text": [
      "/\n",
      "/\n",
      "/\n",
      "/\n",
      "/\n"
     ]
    }
   ],
   "source": [
    "for a in range (5):\n",
    "    print('/')"
   ]
  },
  {
   "cell_type": "code",
   "execution_count": 2,
   "metadata": {},
   "outputs": [
    {
     "data": {
      "text/plain": [
       "False"
      ]
     },
     "execution_count": 2,
     "metadata": {},
     "output_type": "execute_result"
    }
   ],
   "source": [
    "5%10<10-25*8//5"
   ]
  },
  {
   "cell_type": "code",
   "execution_count": 3,
   "metadata": {},
   "outputs": [
    {
     "name": "stdout",
     "output_type": "stream",
     "text": [
      "10987654321k\n"
     ]
    }
   ],
   "source": [
    "t=10\n",
    "while t>0:\n",
    "    print(t,end=\"\")\n",
    "    t=t-1\n",
    "else:\n",
    "    print('k')"
   ]
  },
  {
   "cell_type": "code",
   "execution_count": 1,
   "metadata": {},
   "outputs": [
    {
     "name": "stdout",
     "output_type": "stream",
     "text": [
      "0\n",
      "1\n",
      "2\n",
      "Loop Over\n"
     ]
    }
   ],
   "source": [
    "#for to while\n",
    "i=0\n",
    "while i<3:\n",
    "    print(i)\n",
    "    i=i+1\n",
    "else:\n",
    "    print(\"Loop Over\")"
   ]
  },
  {
   "cell_type": "code",
   "execution_count": 6,
   "metadata": {},
   "outputs": [
    {
     "name": "stdout",
     "output_type": "stream",
     "text": [
      "1\n",
      "2\n",
      "3\n",
      "4\n",
      "Loop over\n"
     ]
    }
   ],
   "source": [
    "i = 1\n",
    "while i<5:\n",
    "    print(i)\n",
    "    if i%7==0:\n",
    "        break\n",
    "    i =i+1\n",
    "else:\n",
    "    print(\"Loop over\")"
   ]
  },
  {
   "cell_type": "code",
   "execution_count": 8,
   "metadata": {},
   "outputs": [
    {
     "name": "stdout",
     "output_type": "stream",
     "text": [
      "1\n",
      "4\n",
      "7\n"
     ]
    }
   ],
   "source": [
    "for i in range (1,10,3):\n",
    "    print(i)"
   ]
  },
  {
   "cell_type": "code",
   "execution_count": 12,
   "metadata": {},
   "outputs": [
    {
     "name": "stdout",
     "output_type": "stream",
     "text": [
      "Enter your number : 2\n",
      "The sum is  3\n"
     ]
    }
   ],
   "source": [
    "#accept number from user and calculate the sum of all nos. from 1 to a given number using while loop\n",
    "sum = 0\n",
    "x = int(input(\"Enter your number : \"))\n",
    "while x>0:\n",
    "    sum = sum+x\n",
    "    x = x-1\n",
    "print(\"The sum is \", sum)"
   ]
  },
  {
   "cell_type": "markdown",
   "metadata": {},
   "source": [
    "Given a list, iterate it, and display numbers divisible by five and if you find a number greater than 150, stop the loop iteration"
   ]
  },
  {
   "cell_type": "code",
   "execution_count": null,
   "metadata": {},
   "outputs": [],
   "source": [
    "x = int(input(\"Enter a number : \"))\n",
    "s =0\n",
    "while x>0:\n",
    "    if x%5==0:\n",
    "        print(x)\n",
    "    x=x-1\n",
    "    if x==150:\n",
    "        break\n",
    "        else:\n",
    "            print(\"Over\")"
   ]
  },
  {
   "cell_type": "code",
   "execution_count": 2,
   "metadata": {},
   "outputs": [
    {
     "name": "stdout",
     "output_type": "stream",
     "text": [
      "0  :  4\n",
      "0  :  5\n",
      "0  :  6\n",
      "1  :  4\n",
      "1  :  5\n",
      "1  :  6\n",
      "2  :  4\n",
      "2  :  5\n",
      "2  :  6\n"
     ]
    }
   ],
   "source": [
    "#Q)write output for the following:\n",
    "for i in range (3):\n",
    "        for j in range(4,7):\n",
    "            print(i ,\" : \" ,j)"
   ]
  },
  {
   "cell_type": "code",
   "execution_count": 3,
   "metadata": {},
   "outputs": [
    {
     "name": "stdout",
     "output_type": "stream",
     "text": [
      "0 0 0 1 1 1 2 2 2 "
     ]
    }
   ],
   "source": [
    "for i in range (3):\n",
    "        for j in range(4,7):\n",
    "            print(i ,end =\" \")"
   ]
  },
  {
   "cell_type": "code",
   "execution_count": 5,
   "metadata": {},
   "outputs": [
    {
     "name": "stdout",
     "output_type": "stream",
     "text": [
      "* * * * * * * * * "
     ]
    }
   ],
   "source": [
    "for i in range (3):\n",
    "        for j in range(4,7):\n",
    "            print(\"*\",end = \" \") #explanation is below"
   ]
  },
  {
   "cell_type": "raw",
   "metadata": {},
   "source": [
    "i    j   print\n",
    "0    4   *\n",
    "0    5   *\n",
    "0    6   *\n",
    "1    4   *\n",
    "1    5   *\n",
    "1    6   *\n",
    "2    4   *\n",
    "2    5   *\n",
    "2    6   *"
   ]
  },
  {
   "cell_type": "code",
   "execution_count": 6,
   "metadata": {},
   "outputs": [
    {
     "name": "stdout",
     "output_type": "stream",
     "text": [
      "*\n",
      "*\n",
      "*\n",
      "*\n",
      "*\n",
      "*\n",
      "*\n",
      "*\n",
      "*\n"
     ]
    }
   ],
   "source": [
    "for i in range (3):\n",
    "        for j in range(4,7):\n",
    "            print(\"*\")"
   ]
  },
  {
   "cell_type": "code",
   "execution_count": 9,
   "metadata": {},
   "outputs": [
    {
     "name": "stdout",
     "output_type": "stream",
     "text": [
      "* * *   * * *   * * *   "
     ]
    }
   ],
   "source": [
    "for i in range (3):\n",
    "        for j in range(4,7):\n",
    "            print(\"*\",end = \" \")\n",
    "        print(end=\"  \")"
   ]
  },
  {
   "cell_type": "code",
   "execution_count": 10,
   "metadata": {},
   "outputs": [
    {
     "name": "stdout",
     "output_type": "stream",
     "text": [
      "* * * \n",
      "* * * \n",
      "* * * \n"
     ]
    }
   ],
   "source": [
    "for i in range (3):\n",
    "        for j in range(4,7):\n",
    "            print(\"*\",end = \" \")\n",
    "        print()"
   ]
  },
  {
   "cell_type": "code",
   "execution_count": 13,
   "metadata": {},
   "outputs": [
    {
     "name": "stdout",
     "output_type": "stream",
     "text": [
      "0 0 0 \n",
      "1 1 1 \n",
      "2 2 2 \n"
     ]
    }
   ],
   "source": [
    "for i in range (3):\n",
    "        for j in range(4,7):\n",
    "            print(i,end = \" \")\n",
    "        print()"
   ]
  },
  {
   "cell_type": "code",
   "execution_count": 14,
   "metadata": {},
   "outputs": [
    {
     "name": "stdout",
     "output_type": "stream",
     "text": [
      "0 4 0 5 0 6 \n",
      "1 4 1 5 1 6 \n",
      "2 4 2 5 2 6 \n"
     ]
    }
   ],
   "source": [
    "for i in range (3):\n",
    "        for j in range(4,7):\n",
    "            print(i,j,end = \" \")\n",
    "        print()"
   ]
  },
  {
   "cell_type": "code",
   "execution_count": 4,
   "metadata": {},
   "outputs": [
    {
     "name": "stdout",
     "output_type": "stream",
     "text": [
      "0 111\n",
      "0 22\n",
      "1 111\n",
      "1 22\n",
      "2 111\n",
      "2 22\n"
     ]
    }
   ],
   "source": [
    "for i in range(3):\n",
    "    print(i, \"111\")\n",
    "    print(i, \"22\")"
   ]
  },
  {
   "cell_type": "code",
   "execution_count": 5,
   "metadata": {},
   "outputs": [
    {
     "name": "stdout",
     "output_type": "stream",
     "text": [
      "******\n",
      "******\n",
      "******\n"
     ]
    }
   ],
   "source": [
    "for i in range(3):\n",
    "    print(\"******\")"
   ]
  },
  {
   "cell_type": "code",
   "execution_count": 6,
   "metadata": {},
   "outputs": [
    {
     "name": "stdout",
     "output_type": "stream",
     "text": [
      "1\n",
      "1\n",
      "2\n",
      "2\n"
     ]
    }
   ],
   "source": [
    "for i in range (1,3):\n",
    "    for j in range(2):\n",
    "        print(i)"
   ]
  },
  {
   "cell_type": "code",
   "execution_count": 12,
   "metadata": {},
   "outputs": [
    {
     "name": "stdout",
     "output_type": "stream",
     "text": [
      "0\n",
      "1\n",
      "0\n",
      "1\n"
     ]
    }
   ],
   "source": [
    "for i in range (1,3):\n",
    "    for j in range(2):\n",
    "        print(j)"
   ]
  },
  {
   "cell_type": "code",
   "execution_count": 11,
   "metadata": {},
   "outputs": [
    {
     "name": "stdout",
     "output_type": "stream",
     "text": [
      "0 1 \n",
      "0 1 \n"
     ]
    }
   ],
   "source": [
    "for i in range (1,3):\n",
    "    for j in range(2):\n",
    "        print(j, end=\" \")\n",
    "    print()"
   ]
  },
  {
   "cell_type": "code",
   "execution_count": 13,
   "metadata": {},
   "outputs": [
    {
     "name": "stdout",
     "output_type": "stream",
     "text": [
      "0 1 0 1 "
     ]
    }
   ],
   "source": [
    "for i in range (1,3):\n",
    "    for j in range(2):\n",
    "        print(j, end=\" \")"
   ]
  },
  {
   "cell_type": "code",
   "execution_count": 16,
   "metadata": {},
   "outputs": [
    {
     "name": "stdout",
     "output_type": "stream",
     "text": [
      "* * \n",
      "* * \n"
     ]
    }
   ],
   "source": [
    "for i in range (1,3):\n",
    "    for j in range(2):\n",
    "        print(\"*\", end=\" \")\n",
    "    print()"
   ]
  },
  {
   "cell_type": "code",
   "execution_count": 17,
   "metadata": {},
   "outputs": [
    {
     "name": "stdout",
     "output_type": "stream",
     "text": [
      "* \n",
      "* * \n"
     ]
    }
   ],
   "source": [
    "for i in range (1,3):\n",
    "    for j in range(i):\n",
    "        print(\"*\", end=\" \")\n",
    "    print()"
   ]
  },
  {
   "cell_type": "code",
   "execution_count": 18,
   "metadata": {},
   "outputs": [
    {
     "name": "stdout",
     "output_type": "stream",
     "text": [
      "1 \n",
      "2 3 \n"
     ]
    }
   ],
   "source": [
    "k=1\n",
    "for i in range (1,3):\n",
    "    for j in range(i):\n",
    "        print(k, end=\" \")\n",
    "        k=k+1\n",
    "    print()"
   ]
  },
  {
   "cell_type": "markdown",
   "metadata": {},
   "source": [
    "Q1)print- 123\n",
    "          123\n",
    "          123\n",
    "          \n",
    "Q2)print- 111\n",
    "          111\n",
    "          111\n",
    "          \n",
    "Q3)print- 123\n",
    "          456\n",
    "          \n",
    "Q4)print- 1\n",
    "          23\n",
    "          456\n",
    "          \n",
    "Q5)print- 6\n",
    "          66\n",
    "          666\n",
    "          6666\n",
    "          \n",
    "Q6)print- 111\n",
    "          111\n",
    "          111\n",
    "          \n",
    "          \n",
    "Q7)print- *\n",
    "          **\n",
    "          ***\n",
    "          ****"
   ]
  },
  {
   "cell_type": "code",
   "execution_count": 24,
   "metadata": {},
   "outputs": [
    {
     "name": "stdout",
     "output_type": "stream",
     "text": [
      "123\n",
      "123\n"
     ]
    }
   ],
   "source": [
    "#Q1\n",
    "for i in range (2):\n",
    "    print(\"123\")"
   ]
  },
  {
   "cell_type": "code",
   "execution_count": 25,
   "metadata": {},
   "outputs": [
    {
     "name": "stdout",
     "output_type": "stream",
     "text": [
      "111\n",
      "111\n"
     ]
    }
   ],
   "source": [
    "Q2\n",
    "for i in range (2):\n",
    "    print(\"111\")"
   ]
  }
 ],
 "metadata": {
  "kernelspec": {
   "display_name": "Python 3",
   "language": "python",
   "name": "python3"
  },
  "language_info": {
   "codemirror_mode": {
    "name": "ipython",
    "version": 3
   },
   "file_extension": ".py",
   "mimetype": "text/x-python",
   "name": "python",
   "nbconvert_exporter": "python",
   "pygments_lexer": "ipython3",
   "version": "3.8.5"
  }
 },
 "nbformat": 4,
 "nbformat_minor": 4
}
