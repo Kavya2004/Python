{
 "cells": [
  {
   "cell_type": "code",
   "execution_count": 1,
   "metadata": {},
   "outputs": [
    {
     "name": "stdout",
     "output_type": "stream",
     "text": [
      ">help\n",
      "\n",
      "start - to start the car\n",
      "stop - to stop the car\n",
      "quit - to leave the game\n",
      "        \n",
      ">start\n",
      "Car started\n",
      ">stop\n",
      "Car stopped\n",
      ">quit\n"
     ]
    }
   ],
   "source": [
    "#car game\n",
    "command = \"\"\n",
    "started = False\n",
    "while True:\n",
    "    command = input(\">\").lower()\n",
    "    if command == \"start\":\n",
    "        if started:\n",
    "            print(\"Car has alreay started.\")\n",
    "        else:\n",
    "            started = True\n",
    "            print(\"Car started\")\n",
    "    elif command == \"stop\":\n",
    "        if not started:\n",
    "            print(\"Car is already stopped.\")\n",
    "        else:\n",
    "            started = False\n",
    "            print(\"Car stopped\")\n",
    "    elif command == \"help\":\n",
    "        print(\"\"\"\n",
    "start - to start the car\n",
    "stop - to stop the car\n",
    "quit - to leave the game\n",
    "        \"\"\")\n",
    "    elif command == \"quit\":\n",
    "        break\n",
    "    else:\n",
    "        print(\"Invalid command. \" )       "
   ]
  },
  {
   "cell_type": "code",
   "execution_count": 2,
   "metadata": {},
   "outputs": [
    {
     "name": "stdout",
     "output_type": "stream",
     "text": [
      "Guess the number : 3\n",
      "Guess the number : 4\n",
      "Big Brain, you guessed correct!\n"
     ]
    }
   ],
   "source": [
    "#Guess the number\n",
    "secret_number = 4\n",
    "guess_count = 0\n",
    "guess_limit = 3\n",
    "while guess_count < guess_limit:\n",
    "    guess = int(input(\"Guess the number : \"))\n",
    "    guess_count += 1 #to make it understand that 1 guess and so on have been made\n",
    "    if guess == secret_number:\n",
    "        print(\"Big Brain, you guessed correct!\")\n",
    "        break\n",
    "else:\n",
    "    print(\"What a noob, couldn't even guess a number.\")"
   ]
  },
  {
   "cell_type": "code",
   "execution_count": 17,
   "metadata": {},
   "outputs": [
    {
     "name": "stdout",
     "output_type": "stream",
     "text": [
      "1 = Enter marks\n",
      "2 = Total marks\n",
      "3 = Percentage\n",
      "Enter choice : 2\n",
      "Enter marks in physics : 100\n",
      "Enter marks in chemistry : 89\n",
      "Enter marks in maths : 98\n",
      "Enter marks in english : 97\n",
      "Enter marks in cs : 99\n",
      "Total marks are  483.0\n"
     ]
    }
   ],
   "source": [
    "print(\"1 = Enter marks\")\n",
    "print(\"2 = Total marks\")\n",
    "print(\"3 = Percentage\")\n",
    "ch = int(input(\"Enter choice : \"))\n",
    "if ch==1:\n",
    "    a = float(input(\"Enter marks in physics : \"))\n",
    "    b = float(input(\"Enter marks in chemistry : \"))\n",
    "    c = float(input(\"Enter marks in maths : \"))\n",
    "    d = float(input(\"Enter marks in english : \"))\n",
    "    e = float(input(\"Enter marks in cs : \"))\n",
    "elif ch==2:\n",
    "    a = float(input(\"Enter marks in physics : \"))\n",
    "    b = float(input(\"Enter marks in chemistry : \"))\n",
    "    c = float(input(\"Enter marks in maths : \"))\n",
    "    d = float(input(\"Enter marks in english : \"))\n",
    "    e = float(input(\"Enter marks in cs : \"))\n",
    "    print(\"Total marks are \", a+b+c+d+e)\n",
    "elif ch==3:\n",
    "    a = float(input(\"Enter marks in physics : \"))\n",
    "    b = float(input(\"Enter marks in chemistry : \"))\n",
    "    c = float(input(\"Enter marks in maths : \"))\n",
    "    d = float(input(\"Enter marks in english : \"))\n",
    "    e = float(input(\"Enter marks in cs : \"))\n",
    "    print(\"Percentage is \", a+b+c+d+e*100/500)\n",
    "else:\n",
    "    exit"
   ]
  },
  {
   "cell_type": "code",
   "execution_count": 2,
   "metadata": {},
   "outputs": [
    {
     "name": "stdout",
     "output_type": "stream",
     "text": [
      "10\n",
      "9\n",
      "8\n",
      "7\n",
      "6\n",
      "5\n",
      "4\n",
      "3\n",
      "2\n",
      "1\n"
     ]
    }
   ],
   "source": [
    "#output form 10 to 1\n",
    "t = 10\n",
    "while t>0:\n",
    "    print(t)\n",
    "    t=t-1"
   ]
  },
  {
   "cell_type": "code",
   "execution_count": 1,
   "metadata": {},
   "outputs": [
    {
     "name": "stdout",
     "output_type": "stream",
     "text": [
      "H @\n",
      "e @\n",
      "l @\n",
      "l @\n",
      "o @\n"
     ]
    }
   ],
   "source": [
    "#int, float, string\n",
    "a = \"Hello\"\n",
    "for i in a:\n",
    "    print(i,\"@\")"
   ]
  },
  {
   "cell_type": "code",
   "execution_count": 12,
   "metadata": {},
   "outputs": [
    {
     "name": "stdout",
     "output_type": "stream",
     "text": [
      "Enter your gmail : k@\n",
      "Valid id\n"
     ]
    }
   ],
   "source": [
    "#Write a program to check  valid email\n",
    "a = input(\"Enter your gmail : \")\n",
    "for i in a:\n",
    "    if i=='@':\n",
    "        print(\"Valid id\")\n",
    "        break\n",
    "else:\n",
    "    print(\"Invalid id\")"
   ]
  },
  {
   "cell_type": "code",
   "execution_count": 1,
   "metadata": {},
   "outputs": [
    {
     "name": "stdout",
     "output_type": "stream",
     "text": [
      "Enter your words : hi i am kavya\n",
      "Spaces in string are 3\n"
     ]
    }
   ],
   "source": [
    "#How may spaces are there in given string\n",
    "c=0\n",
    "a = input(\"Enter your words : \")\n",
    "for i in a:\n",
    "    if i==' ':\n",
    "        c=c+1\n",
    "print(\"Spaces in sentence are\", c)"
   ]
  },
  {
   "cell_type": "code",
   "execution_count": 1,
   "metadata": {},
   "outputs": [
    {
     "name": "stdout",
     "output_type": "stream",
     "text": [
      "0\n",
      "4\n",
      "8\n",
      "12\n",
      "16\n"
     ]
    }
   ],
   "source": [
    "for i in range(20):\n",
    "    if(i%4==0):\n",
    "        print(i)"
   ]
  },
  {
   "cell_type": "code",
   "execution_count": 13,
   "metadata": {},
   "outputs": [
    {
     "name": "stdout",
     "output_type": "stream",
     "text": [
      "[1, 2, 3, 4, 5, 6, 7, 8, 9, 10, 11, 12, 13, 14, 15, 16, 17, 18, 19, 20, 21, 22, 23, 24, 25, 26, 27, 28, 29, 30, 31, 32, 33, 34, 35, 36, 37, 38, 39, 40, 41, 42, 43, 44, 45, 46, 47, 48, 49, 50, 51, 52, 53, 54, 55, 56, 57, 58, 59, 60, 61, 62, 63, 64, 65, 66, 67, 68, 69, 70, 71, 72, 73, 74, 75, 76, 77, 78, 79, 80, 81, 82, 83, 84, 85, 86, 87, 88, 89, 90, 91, 92, 93, 94, 95, 96, 97, 98, 99, 100]\n"
     ]
    }
   ],
   "source": [
    "x = list(range(1,101))\n",
    "print(x)"
   ]
  },
  {
   "cell_type": "code",
   "execution_count": null,
   "metadata": {},
   "outputs": [],
   "source": [
    "#print all the odd nos. less than 20\n",
    "for i in range(20):\n",
    "    if(i%2==1):\n",
    "        print(i)"
   ]
  },
  {
   "cell_type": "code",
   "execution_count": 22,
   "metadata": {},
   "outputs": [
    {
     "name": "stdout",
     "output_type": "stream",
     "text": [
      "30\n"
     ]
    }
   ],
   "source": [
    "#total of nos.\n",
    "total = 0\n",
    "for i in range(0,11):\n",
    "    if i%2==0:\n",
    "        total+=i\n",
    "print(total)"
   ]
  },
  {
   "cell_type": "code",
   "execution_count": 1,
   "metadata": {},
   "outputs": [
    {
     "name": "stdout",
     "output_type": "stream",
     "text": [
      "Enter your number : 123456789\n",
      "Reverse number is : 987654321\n"
     ]
    }
   ],
   "source": [
    "#reverse a number (% is remainder)\n",
    "x = int(input(\"Enter your number : \"))\n",
    "n = 0\n",
    "while x>0:\n",
    "    n = n*10+x%10\n",
    "    x = x//10\n",
    "print(\"Reverse number is :\", n)\n",
    "    "
   ]
  }
 ],
 "metadata": {
  "kernelspec": {
   "display_name": "Python 3",
   "language": "python",
   "name": "python3"
  },
  "language_info": {
   "codemirror_mode": {
    "name": "ipython",
    "version": 3
   },
   "file_extension": ".py",
   "mimetype": "text/x-python",
   "name": "python",
   "nbconvert_exporter": "python",
   "pygments_lexer": "ipython3",
   "version": "3.8.5"
  }
 },
 "nbformat": 4,
 "nbformat_minor": 4
}
