{
 "cells": [
  {
   "cell_type": "code",
   "execution_count": 2,
   "metadata": {},
   "outputs": [
    {
     "name": "stdout",
     "output_type": "stream",
     "text": [
      "Enter a color : red\n",
      "Enter a plural noun : skies\n",
      "Enter a celebrity : myself\n",
      "Roses are  red\n",
      "skies are blue\n",
      "I love myself\n"
     ]
    }
   ],
   "source": [
    "#Madlib game\n",
    "color = input(\"Enter a color : \")\n",
    "plural_noun = input(\"Enter a plural noun : \")\n",
    "celebrity = input(\"Enter a celebrity : \")\n",
    "print(\"Roses are \",color)\n",
    "print(plural_noun,\"are blue\")\n",
    "print(\"I love\", celebrity)"
   ]
  },
  {
   "cell_type": "code",
   "execution_count": 7,
   "metadata": {},
   "outputs": [
    {
     "name": "stdout",
     "output_type": "stream",
     "text": [
      "Enter n : 4\n",
      "2\n",
      "3\n",
      "4\n",
      "0 1\n"
     ]
    }
   ],
   "source": [
    "x = 0\n",
    "y = 1\n",
    "n = int(input(\"Enter n : \"))\n",
    "i=x+y\n",
    "while i<n:\n",
    "    i=i+1\n",
    "    print(i)\n",
    "if n==0:\n",
    "    print(0)\n",
    "else:\n",
    "    print(0,1)"
   ]
  },
  {
   "cell_type": "code",
   "execution_count": null,
   "metadata": {},
   "outputs": [
    {
     "name": "stdout",
     "output_type": "stream",
     "text": [
      "Enter your no : 4\n"
     ]
    }
   ],
   "source": [
    "s = 0\n",
    "x = int(input(\"Enter your no : \"))\n",
    "while x>0:\n",
    "    s=s+1\n",
    "print(s)"
   ]
  },
  {
   "cell_type": "code",
   "execution_count": null,
   "metadata": {},
   "outputs": [],
   "source": [
    "for i in range(0,10):\n",
    "    i=i+1\n",
    "    print(i)"
   ]
  },
  {
   "cell_type": "code",
   "execution_count": 1,
   "metadata": {},
   "outputs": [
    {
     "name": "stdout",
     "output_type": "stream",
     "text": [
      "Guess the number : 2\n",
      "You use 1 guesses.\n",
      "Guess the number : 1\n",
      "You use 2 guesses.\n",
      "Big Brain, you guessed correct!\n"
     ]
    }
   ],
   "source": [
    "#Guess the number\n",
    "import random\n",
    "secret_number = random.randint(0, 10)\n",
    "guess_count = 0\n",
    "guess_limit = 3\n",
    "while guess_count < guess_limit:\n",
    "    guess = int(input(\"Guess the number : \"))\n",
    "    guess_count += 1 #to make it understand that 1 guess and so on have been made\n",
    "    print(\"You used {} guesses.\".format(guess_count))\n",
    "    if guess == secret_number:\n",
    "        print(\"Big Brain, you guessed correct!\")\n",
    "        break\n",
    "else:\n",
    "    print(\"What a noob, couldn't even guess a number.\")\n",
    "    print(\"The number was {}\".format(secret_number))"
   ]
  },
  {
   "cell_type": "code",
   "execution_count": 2,
   "metadata": {},
   "outputs": [
    {
     "name": "stdout",
     "output_type": "stream",
     "text": [
      "10\n",
      "9\n",
      "8\n",
      "7\n",
      "6\n"
     ]
    }
   ],
   "source": [
    "t= 10\n",
    "while t>0:\n",
    "    print(t)\n",
    "    t=t-1\n",
    "    if t==5:\n",
    "        break"
   ]
  },
  {
   "cell_type": "code",
   "execution_count": 13,
   "metadata": {},
   "outputs": [
    {
     "name": "stdout",
     "output_type": "stream",
     "text": [
      "Hello\n",
      "Hello\n",
      "Hello\n",
      "Loop completed\n"
     ]
    }
   ],
   "source": [
    "#write the output \n",
    "#literal boolean\n",
    "i=3\n",
    "while i>0:\n",
    "    print(\"Hello\")\n",
    "    i=i-1\n",
    "else:\n",
    "    print(\"Loop completed\")"
   ]
  },
  {
   "cell_type": "code",
   "execution_count": null,
   "metadata": {},
   "outputs": [
    {
     "name": "stdout",
     "output_type": "stream",
     "text": [
      "Enter a number : 46\n",
      "Reverse number is  64\n",
      "Print b to continue :  b\n"
     ]
    }
   ],
   "source": [
    "d='a'\n",
    "while d=='a' or d=='A':\n",
    "    x = int(input(\"Enter a number : \"))\n",
    "    y = (x%10) *10 +x//10\n",
    "    print(\"Reverse number is \", y)\n",
    "    a = input(\"Print b to continue :  \")"
   ]
  },
  {
   "cell_type": "code",
   "execution_count": null,
   "metadata": {},
   "outputs": [],
   "source": []
  },
  {
   "cell_type": "code",
   "execution_count": 12,
   "metadata": {},
   "outputs": [
    {
     "name": "stdout",
     "output_type": "stream",
     "text": [
      "Hello\n",
      "Press y to continue : y\n",
      "Hello\n",
      "Press y to continue : y\n",
      "Hello\n",
      "Press y to continue : u\n"
     ]
    }
   ],
   "source": [
    "#write the output \n",
    "#literal boolean\n",
    "while True:\n",
    "    print(\"Hello\")\n",
    "    x = input(\"Press y to continue : \")\n",
    "    if x=='y' or x=='Y':\n",
    "        continue\n",
    "    else:\n",
    "        break"
   ]
  }
 ],
 "metadata": {
  "kernelspec": {
   "display_name": "Python 3",
   "language": "python",
   "name": "python3"
  },
  "language_info": {
   "codemirror_mode": {
    "name": "ipython",
    "version": 3
   },
   "file_extension": ".py",
   "mimetype": "text/x-python",
   "name": "python",
   "nbconvert_exporter": "python",
   "pygments_lexer": "ipython3",
   "version": "3.8.5"
  }
 },
 "nbformat": 4,
 "nbformat_minor": 4
}
