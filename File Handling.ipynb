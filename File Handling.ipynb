{
 "cells": [
  {
   "cell_type": "code",
   "execution_count": 6,
   "metadata": {},
   "outputs": [
    {
     "name": "stdout",
     "output_type": "stream",
     "text": [
      "Enter you name: Kavya\n",
      "Enter you name: Sid\n",
      "Enter you name: Shiv\n",
      "Enter you name: Deepak\n",
      "Enter you name: Rinku\n",
      "Program terminated successfully\n"
     ]
    }
   ],
   "source": [
    "obj = open(\"student.txt\",\"w\")\n",
    "for i in range(5):\n",
    "    name=input(\"Enter you name: \")\n",
    "    obj.write(name)\n",
    "    obj.write('\\n')\n",
    "obj.close()\n",
    "print(\"Program terminated successfully\")"
   ]
  },
  {
   "cell_type": "code",
   "execution_count": 9,
   "metadata": {},
   "outputs": [
    {
     "name": "stdout",
     "output_type": "stream",
     "text": [
      "Enter you name: Krishna\n"
     ]
    }
   ],
   "source": [
    "object=open(\"student.txt\",\"a\")\n",
    "n=input(\"Enter you name: \")\n",
    "object.write(n)\n",
    "object.write('\\n')\n",
    "object.close()"
   ]
  },
  {
   "cell_type": "code",
   "execution_count": 10,
   "metadata": {},
   "outputs": [
    {
     "name": "stdout",
     "output_type": "stream",
     "text": [
      "Kavya\n",
      "Sid\n",
      "Shiv\n",
      "Deepak\n",
      "Rinku\n",
      "Krishna\n",
      "\n"
     ]
    },
    {
     "data": {
      "text/plain": [
       "<function TextIOWrapper.close()>"
      ]
     },
     "execution_count": 10,
     "metadata": {},
     "output_type": "execute_result"
    }
   ],
   "source": [
    "fobj = open(\"student.txt\",\"r\")\n",
    "data = fobj.read()\n",
    "print(data)\n",
    "fobj.close"
   ]
  },
  {
   "cell_type": "code",
   "execution_count": 11,
   "metadata": {},
   "outputs": [
    {
     "name": "stdout",
     "output_type": "stream",
     "text": [
      "Kavya\n",
      "Sid\n",
      "Shiv\n",
      "Deepa\n"
     ]
    },
    {
     "data": {
      "text/plain": [
       "<function TextIOWrapper.close()>"
      ]
     },
     "execution_count": 11,
     "metadata": {},
     "output_type": "execute_result"
    }
   ],
   "source": [
    "fobj = open(\"student.txt\",\"r\")\n",
    "data = fobj.read(20) #reads 20 characters\n",
    "print(data)\n",
    "fobj.close"
   ]
  },
  {
   "cell_type": "code",
   "execution_count": 12,
   "metadata": {},
   "outputs": [
    {
     "name": "stdout",
     "output_type": "stream",
     "text": [
      "Kavya\n",
      "\n"
     ]
    },
    {
     "data": {
      "text/plain": [
       "<function TextIOWrapper.close()>"
      ]
     },
     "execution_count": 12,
     "metadata": {},
     "output_type": "execute_result"
    }
   ],
   "source": [
    "fobj = open(\"student.txt\",\"r\")\n",
    "data = fobj.readline() #reads 1st line\n",
    "print(data)\n",
    "fobj.close"
   ]
  },
  {
   "cell_type": "code",
   "execution_count": 13,
   "metadata": {},
   "outputs": [
    {
     "name": "stdout",
     "output_type": "stream",
     "text": [
      "Kavya\n",
      "\n",
      "Sid\n",
      "\n",
      "Shiv\n",
      "\n",
      "Deepak\n",
      "\n",
      "Rinku\n",
      "\n",
      "Krishna\n",
      "\n",
      "\n"
     ]
    },
    {
     "data": {
      "text/plain": [
       "<function TextIOWrapper.close()>"
      ]
     },
     "execution_count": 13,
     "metadata": {},
     "output_type": "execute_result"
    }
   ],
   "source": [
    "fobj = open(\"student.txt\",\"r\")\n",
    "data = \" \"\n",
    "while data: #reads all the lines \n",
    "    data = fobj.readline() \n",
    "    print(data)\n",
    "fobj.close"
   ]
  },
  {
   "cell_type": "code",
   "execution_count": 14,
   "metadata": {},
   "outputs": [
    {
     "name": "stdout",
     "output_type": "stream",
     "text": [
      "Kavya\n",
      "Sid\n",
      "Shiv\n",
      "Deepak\n",
      "Rinku\n",
      "Krishna\n"
     ]
    },
    {
     "data": {
      "text/plain": [
       "<function TextIOWrapper.close()>"
      ]
     },
     "execution_count": 14,
     "metadata": {},
     "output_type": "execute_result"
    }
   ],
   "source": [
    "fobj = open(\"student.txt\",\"r\")\n",
    "data = \" \"\n",
    "while data:  \n",
    "    data = fobj.readline() \n",
    "    print(data, end=\"\")\n",
    "fobj.close"
   ]
  },
  {
   "cell_type": "code",
   "execution_count": 15,
   "metadata": {},
   "outputs": [
    {
     "name": "stdout",
     "output_type": "stream",
     "text": [
      "['Kavya\\n', 'Sid\\n', 'Shiv\\n', 'Deepak\\n', 'Rinku\\n', 'Krishna\\n']\n"
     ]
    },
    {
     "data": {
      "text/plain": [
       "<function TextIOWrapper.close()>"
      ]
     },
     "execution_count": 15,
     "metadata": {},
     "output_type": "execute_result"
    }
   ],
   "source": [
    "fobj = open(\"student.txt\",\"r\")\n",
    "data = fobj.readlines() #returns value as list\n",
    "print(data)\n",
    "fobj.close"
   ]
  },
  {
   "cell_type": "code",
   "execution_count": null,
   "metadata": {},
   "outputs": [],
   "source": []
  }
 ],
 "metadata": {
  "kernelspec": {
   "display_name": "Python 3",
   "language": "python",
   "name": "python3"
  },
  "language_info": {
   "codemirror_mode": {
    "name": "ipython",
    "version": 3
   },
   "file_extension": ".py",
   "mimetype": "text/x-python",
   "name": "python",
   "nbconvert_exporter": "python",
   "pygments_lexer": "ipython3",
   "version": "3.8.5"
  }
 },
 "nbformat": 4,
 "nbformat_minor": 4
}
