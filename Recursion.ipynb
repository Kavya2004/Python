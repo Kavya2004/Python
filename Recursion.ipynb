{
 "cells": [
  {
   "cell_type": "code",
   "execution_count": 1,
   "metadata": {},
   "outputs": [
    {
     "name": "stdout",
     "output_type": "stream",
     "text": [
      "Enter the number: 4\n",
      "sum is 10\n"
     ]
    }
   ],
   "source": [
    "#sum of numbers from 1 to n{input by the user}\n",
    "def sum(n):\n",
    "    if n==1:\n",
    "        return 1\n",
    "    else:\n",
    "        return(n+sum(n-1))\n",
    "n = int(input(\"Enter the number: \"))\n",
    "z = sum(n)\n",
    "print(\"sum is\",z)"
   ]
  },
  {
   "cell_type": "code",
   "execution_count": 4,
   "metadata": {},
   "outputs": [
    {
     "name": "stdout",
     "output_type": "stream",
     "text": [
      "Enter string: Kavya\n",
      "ayvaK\n"
     ]
    }
   ],
   "source": [
    "#string in reverse order\n",
    "def xyz(s,n):\n",
    "    if n==0:\n",
    "        print(s[0])\n",
    "    else:\n",
    "        print(s[n], end=\"\")\n",
    "        xyz(s,n-1)\n",
    "s = input(\"Enter string: \")\n",
    "l = xyz(s,len(s)-1)"
   ]
  },
  {
   "cell_type": "code",
   "execution_count": 6,
   "metadata": {},
   "outputs": [
    {
     "name": "stdout",
     "output_type": "stream",
     "text": [
      "Enter base: 2\n",
      "Enter power: 3\n",
      "Calculatedd value: 8\n"
     ]
    }
   ],
   "source": [
    "#to find x^y using recursion\n",
    "def findpower(x,y):\n",
    "    if y==0:\n",
    "        return 1\n",
    "    else:\n",
    "        return (x*findpower(x,y-1))\n",
    "x = int(input(\"Enter base: \"))\n",
    "y = int(input(\"Enter power: \"))\n",
    "z = findpower(x,y)\n",
    "print(\"Calculatedd value:\",z)"
   ]
  },
  {
   "cell_type": "code",
   "execution_count": 7,
   "metadata": {},
   "outputs": [
    {
     "name": "stdout",
     "output_type": "stream",
     "text": [
      "Enter the number: 3\n",
      "factorial: 6\n"
     ]
    }
   ],
   "source": [
    "#factorial of a number\n",
    "def fact(n):\n",
    "    if n==1:\n",
    "        return 1\n",
    "    else:\n",
    "        return(n*fact(n-1))\n",
    "n = int(input(\"Enter the number: \"))\n",
    "z = fact(n)\n",
    "print(\"factorial:\",z)"
   ]
  },
  {
   "cell_type": "code",
   "execution_count": 2,
   "metadata": {},
   "outputs": [
    {
     "name": "stdout",
     "output_type": "stream",
     "text": [
      "Enter larger number: 9\n",
      "Enter smaller number: 2\n",
      "gcd of numbers: 1\n"
     ]
    }
   ],
   "source": [
    "#Greatest Common Divisor of 2 numbers\n",
    "def gcd(p,q):\n",
    "    if q==0:\n",
    "        return p\n",
    "    else:\n",
    "        return(gcd(q,p%q))\n",
    "p = int(input(\"Enter larger number: \"))\n",
    "q = int(input(\"Enter smaller number: \"))\n",
    "z = gcd(p,q)\n",
    "print(\"gcd of numbers:\",z)"
   ]
  },
  {
   "cell_type": "code",
   "execution_count": 4,
   "metadata": {},
   "outputs": [
    {
     "name": "stdout",
     "output_type": "stream",
     "text": [
      "Enter number of terms: 7\n",
      "0 1 1 2 3 5 8 "
     ]
    }
   ],
   "source": [
    "#Fibonacci Series\n",
    "def fibo(n):\n",
    "    if n==1:\n",
    "        return 0 #first term is 0\n",
    "    if n==2:\n",
    "        return 1\n",
    "    return(fibo(n-1)+fibo(n-2))\n",
    "n = int(input(\"Enter number of terms: \"))\n",
    "for i in range(1,n+1):\n",
    "    print(fibo(i),end=\" \")"
   ]
  },
  {
   "cell_type": "code",
   "execution_count": 5,
   "metadata": {},
   "outputs": [
    {
     "name": "stdout",
     "output_type": "stream",
     "text": [
      "Enter number of elements: 4\n",
      "Enter number: 1\n",
      "Enter number: 5\n",
      "Enter number: 2\n",
      "Enter number: 3\n",
      "Enter number to find: 2\n",
      "Sorted list: [1, 2, 3, 5]\n",
      "Number found at 2 position\n"
     ]
    }
   ],
   "source": [
    "#Binary Search\n",
    "def bsearch(a,key):\n",
    "    i = 0\n",
    "    j = len(a)-1\n",
    "    flag = 0\n",
    "    while i<=j and flag==0:\n",
    "        mid = (i+j)//2\n",
    "        if a[mid]==key:\n",
    "            flag = 1\n",
    "            pos = mid+1\n",
    "        if a[mid]>key:\n",
    "            j = mid-1\n",
    "        if a[mid]<key:\n",
    "            i = mid+1\n",
    "        if flag ==1:\n",
    "            print(\"Number found at\", pos,\"position\")\n",
    "        else:\n",
    "            print(\"Number not found\")\n",
    "a = []\n",
    "size = int(input(\"Enter number of elements: \"))\n",
    "for i in range(size):\n",
    "    val = int(input(\"Enter number: \"))\n",
    "    a.append(val)\n",
    "    k = a.sort()\n",
    "key = int(input(\"Enter number to find: \"))\n",
    "print(\"Sorted list:\",a)\n",
    "bsearch(a,key)"
   ]
  }
 ],
 "metadata": {
  "kernelspec": {
   "display_name": "Python 3",
   "language": "python",
   "name": "python3"
  },
  "language_info": {
   "codemirror_mode": {
    "name": "ipython",
    "version": 3
   },
   "file_extension": ".py",
   "mimetype": "text/x-python",
   "name": "python",
   "nbconvert_exporter": "python",
   "pygments_lexer": "ipython3",
   "version": "3.8.5"
  }
 },
 "nbformat": 4,
 "nbformat_minor": 4
}
