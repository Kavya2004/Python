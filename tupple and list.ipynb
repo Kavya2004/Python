{
 "cells": [
  {
   "cell_type": "code",
   "execution_count": 7,
   "metadata": {},
   "outputs": [
    {
     "name": "stdout",
     "output_type": "stream",
     "text": [
      "(1, 'two', 3)\n"
     ]
    },
    {
     "data": {
      "text/plain": [
       "(1, 'two', 3, 7, 8)"
      ]
     },
     "execution_count": 7,
     "metadata": {},
     "output_type": "execute_result"
    }
   ],
   "source": [
    "te = ()\n",
    "t = (1, \"two\", 3)\n",
    "print(t)\n",
    "t[0] #gives the zeroth element\n",
    "t + (7,8)"
   ]
  },
  {
   "cell_type": "code",
   "execution_count": 8,
   "metadata": {},
   "outputs": [
    {
     "name": "stdout",
     "output_type": "stream",
     "text": [
      "Enter number of elements: 2\n",
      "Enter your number: 5\n",
      "Enter your number: 10\n",
      "[5, 10]\n",
      "7.5\n"
     ]
    }
   ],
   "source": [
    "import statistics \n",
    "l = []\n",
    "x = int(input(\"Enter number of elements: \"))\n",
    "for i in range (int(x)):\n",
    "    y = int(input(\"Enter your number: \"))\n",
    "    l.append(y)\n",
    "m=statistics.mean(l)\n",
    "print(l)\n",
    "print(m)"
   ]
  },
  {
   "cell_type": "code",
   "execution_count": 1,
   "metadata": {},
   "outputs": [
    {
     "name": "stdout",
     "output_type": "stream",
     "text": [
      "Common elements are: {1, 2}\n"
     ]
    }
   ],
   "source": [
    "#to find common elements in two tupples\n",
    "t1 = (1,2,23,42)\n",
    "t2 = (1,2,65,6,4)\n",
    "x = set(t1)\n",
    "y = set(t2)\n",
    "if x&y:\n",
    "    print(\"Common elements are:\", x&y)\n",
    "else:\n",
    "    print(\"no common elements\")"
   ]
  },
  {
   "cell_type": "code",
   "execution_count": 2,
   "metadata": {},
   "outputs": [
    {
     "name": "stdout",
     "output_type": "stream",
     "text": [
      "64\n",
      "7\n",
      "8\n",
      "[59, 2, 3] is the new list\n",
      "[64, 7, 8] new list\n"
     ]
    }
   ],
   "source": [
    "#list are mutable\n",
    "l = [1,2,3]\n",
    "l[0] = 59\n",
    "for i in l:\n",
    "    print(i+5)\n",
    "print(l, \"is the new list\")\n",
    "length = len(l)                                         \n",
    "#iterate list elements using index\n",
    "for j in range (length):\n",
    "    l[j]=l[j]+5\n",
    "print(l,\"new list\")"
   ]
  },
  {
   "cell_type": "code",
   "execution_count": 1,
   "metadata": {},
   "outputs": [
    {
     "name": "stdout",
     "output_type": "stream",
     "text": [
      "['Deepak', 'Kavya', 'Rinku', 'Shiv', 'Sidharth']\n"
     ]
    }
   ],
   "source": [
    "#lists of name\n",
    "names = ['Kavya', 'Sidharth', 'Deepak', 'Rinku']\n",
    "names.append('Shiv')\n",
    "names.sort() #arranges alphabetically\n",
    "print(names)"
   ]
  },
  {
   "cell_type": "code",
   "execution_count": 3,
   "metadata": {},
   "outputs": [
    {
     "name": "stdout",
     "output_type": "stream",
     "text": [
      "{1, 3, 4}\n",
      "This set has 3 elements\n"
     ]
    }
   ],
   "source": [
    "#create an empty set\n",
    "s = set()\n",
    "s.add(1)\n",
    "s.add(2)\n",
    "s.add(3)\n",
    "s.add(4)\n",
    "s.add(3)#3 will be added only once\n",
    "s.remove(2)\n",
    "print(s)\n",
    "print(f\"This set has {len(s)} elements\")"
   ]
  },
  {
   "cell_type": "code",
   "execution_count": 4,
   "metadata": {},
   "outputs": [
    {
     "name": "stdout",
     "output_type": "stream",
     "text": [
      "0\n",
      "1\n",
      "2\n",
      "3\n",
      "4\n",
      "5\n"
     ]
    }
   ],
   "source": [
    "for i in [0, 1, 2, 3, 4, 5]:\n",
    "    print(i)"
   ]
  },
  {
   "cell_type": "code",
   "execution_count": 6,
   "metadata": {},
   "outputs": [
    {
     "name": "stdout",
     "output_type": "stream",
     "text": [
      "Kavya\n",
      "Sidharth\n",
      "Deepak\n",
      "Rinku\n"
     ]
    }
   ],
   "source": [
    "names = ['Kavya', 'Sidharth', 'Deepak', 'Rinku']\n",
    "for name in names:\n",
    "    print(name)"
   ]
  },
  {
   "cell_type": "code",
   "execution_count": 7,
   "metadata": {},
   "outputs": [
    {
     "name": "stdout",
     "output_type": "stream",
     "text": [
      "H\n",
      "e\n",
      "n\n",
      "r\n",
      "y\n"
     ]
    }
   ],
   "source": [
    "name = \"Henry\"\n",
    "for characters in name:\n",
    "    print(characters)"
   ]
  },
  {
   "cell_type": "code",
   "execution_count": 8,
   "metadata": {},
   "outputs": [
    {
     "name": "stdout",
     "output_type": "stream",
     "text": [
      "Delhi\n"
     ]
    }
   ],
   "source": [
    "houses = {\"Kavya\": \"Delhi\", \"Sid\": \"Amherst\"}\n",
    "print(houses[\"Kavya\"])"
   ]
  },
  {
   "cell_type": "code",
   "execution_count": 2,
   "metadata": {},
   "outputs": [
    {
     "name": "stdout",
     "output_type": "stream",
     "text": [
      "Amherst\n"
     ]
    }
   ],
   "source": [
    "houses = {\"Kavya\": \"Delhi\", \"Sid\": \"Amherst\"}\n",
    "houses['Shiv'] = \"Amherst\"\n",
    "print(houses[\"Shiv\"])"
   ]
  },
  {
   "cell_type": "code",
   "execution_count": 3,
   "metadata": {},
   "outputs": [
    {
     "name": "stdout",
     "output_type": "stream",
     "text": [
      "The square of 0 is 0\n",
      "The square of 1 is 1\n",
      "The square of 2 is 4\n",
      "The square of 3 is 9\n",
      "The square of 4 is 16\n",
      "The square of 5 is 25\n",
      "The square of 6 is 36\n",
      "The square of 7 is 49\n",
      "The square of 8 is 64\n",
      "The square of 9 is 81\n"
     ]
    }
   ],
   "source": [
    "def square(x): #def is define\n",
    "    return x*x\n",
    "for i in range(10):\n",
    "    print(f\"The square of {i} is {square(i)}\")"
   ]
  },
  {
   "cell_type": "code",
   "execution_count": 2,
   "metadata": {},
   "outputs": [
    {
     "name": "stdout",
     "output_type": "stream",
     "text": [
      "90\n",
      "[90, 80]\n",
      "elements of the list are 90\n",
      "elements of the list are 80\n"
     ]
    }
   ],
   "source": [
    "#lists\n",
    "marks = [90,80]\n",
    "#marks = [] for empty list\n",
    "#marks = list() for empty list\n",
    "print(marks[0]) #individual element\n",
    "print(marks) #access complete ist\n",
    "for i in marks:\n",
    "    print(\"elements of the list are\", i)\n"
   ]
  },
  {
   "cell_type": "code",
   "execution_count": 2,
   "metadata": {},
   "outputs": [
    {
     "name": "stdout",
     "output_type": "stream",
     "text": [
      "Enter a number: 24\n",
      "Enter a number: 23\n",
      "[8, 24, 23]\n",
      "True\n"
     ]
    }
   ],
   "source": [
    "#empty list and list using user input\n",
    "l = []\n",
    "l = list()\n",
    "l.append(8)\n",
    "for i in range (2):\n",
    "    x = int(input(\"Enter a number: \"))\n",
    "    l.append(x)\n",
    "print(l)\n",
    "print(8 in l)"
   ]
  },
  {
   "cell_type": "code",
   "execution_count": 6,
   "metadata": {},
   "outputs": [
    {
     "name": "stdout",
     "output_type": "stream",
     "text": [
      "False\n"
     ]
    }
   ],
   "source": [
    "x = [1,2]\n",
    "print(1 not in x)"
   ]
  },
  {
   "cell_type": "markdown",
   "metadata": {},
   "source": [
    "Similarity between list and string\n",
    "1. Both are sequential data types\n",
    "2. Index starts from 0 in both\n",
    "Difference\n",
    "list are mutable but strings not\n"
   ]
  },
  {
   "cell_type": "code",
   "execution_count": 3,
   "metadata": {},
   "outputs": [
    {
     "data": {
      "text/plain": [
       "'helloindia'"
      ]
     },
     "execution_count": 3,
     "metadata": {},
     "output_type": "execute_result"
    }
   ],
   "source": [
    "\"hello\"+\"india\""
   ]
  },
  {
   "cell_type": "code",
   "execution_count": 4,
   "metadata": {},
   "outputs": [
    {
     "data": {
      "text/plain": [
       "'23'"
      ]
     },
     "execution_count": 4,
     "metadata": {},
     "output_type": "execute_result"
    }
   ],
   "source": [
    "\"2\"+\"3\""
   ]
  },
  {
   "cell_type": "code",
   "execution_count": 5,
   "metadata": {},
   "outputs": [
    {
     "data": {
      "text/plain": [
       "'hellohello'"
      ]
     },
     "execution_count": 5,
     "metadata": {},
     "output_type": "execute_result"
    }
   ],
   "source": [
    "2*\"hello\""
   ]
  },
  {
   "cell_type": "code",
   "execution_count": 7,
   "metadata": {},
   "outputs": [
    {
     "data": {
      "text/plain": [
       "[1, 2, 3, 5, 6]"
      ]
     },
     "execution_count": 7,
     "metadata": {},
     "output_type": "execute_result"
    }
   ],
   "source": [
    "[1, 2, 3]+[5, 6]"
   ]
  },
  {
   "cell_type": "code",
   "execution_count": 8,
   "metadata": {},
   "outputs": [
    {
     "data": {
      "text/plain": [
       "'88'"
      ]
     },
     "execution_count": 8,
     "metadata": {},
     "output_type": "execute_result"
    }
   ],
   "source": [
    "2*\"8\""
   ]
  },
  {
   "cell_type": "code",
   "execution_count": 9,
   "metadata": {},
   "outputs": [
    {
     "data": {
      "text/plain": [
       "16"
      ]
     },
     "execution_count": 9,
     "metadata": {},
     "output_type": "execute_result"
    }
   ],
   "source": [
    "2*8"
   ]
  },
  {
   "cell_type": "code",
   "execution_count": 10,
   "metadata": {},
   "outputs": [
    {
     "data": {
      "text/plain": [
       "['2', 4, '2', 4]"
      ]
     },
     "execution_count": 10,
     "metadata": {},
     "output_type": "execute_result"
    }
   ],
   "source": [
    "2*[\"2\", 4]"
   ]
  },
  {
   "cell_type": "code",
   "execution_count": 15,
   "metadata": {},
   "outputs": [
    {
     "name": "stdout",
     "output_type": "stream",
     "text": [
      "[2, 3, 5]\n"
     ]
    }
   ],
   "source": [
    "l = [2, 3, 4]\n",
    "l[2]=5\n",
    "print(l)"
   ]
  },
  {
   "cell_type": "code",
   "execution_count": 3,
   "metadata": {},
   "outputs": [
    {
     "data": {
      "text/plain": [
       "3"
      ]
     },
     "execution_count": 3,
     "metadata": {},
     "output_type": "execute_result"
    }
   ],
   "source": [
    "l = [1, 3, 12, 34, 23, 34]\n",
    "l.index(34)"
   ]
  },
  {
   "cell_type": "raw",
   "metadata": {},
   "source": [
    "l.append(1) ----> to add one element\n",
    "l.extend[(1)] ----> to add multiple elements passed as list\n",
    "l.insert(0, \"A\") ----> (position, element)"
   ]
  },
  {
   "cell_type": "code",
   "execution_count": 2,
   "metadata": {},
   "outputs": [
    {
     "name": "stdout",
     "output_type": "stream",
     "text": [
      "[1, 3, 12, 34, 23, 34, [2, 3]]\n"
     ]
    }
   ],
   "source": [
    "l = [1, 3, 12, 34, 23, 34]\n",
    "l.append([2, 3])\n",
    "print(l)\n",
    "#l.append(2, 3) then it will give type error"
   ]
  },
  {
   "cell_type": "code",
   "execution_count": 4,
   "metadata": {},
   "outputs": [
    {
     "name": "stdout",
     "output_type": "stream",
     "text": [
      "[1, 3, 12, 34, 23, 34, 2, 3]\n"
     ]
    }
   ],
   "source": [
    "l = [1, 3, 12, 34, 23, 34]\n",
    "l.extend([2, 3])\n",
    "print(l)\n",
    "#l.extend(2, 3) then it will give type error"
   ]
  },
  {
   "cell_type": "code",
   "execution_count": 21,
   "metadata": {},
   "outputs": [
    {
     "name": "stdout",
     "output_type": "stream",
     "text": [
      "[1, 3, 12, 34, 23, 34, [2, 3], ['a', 'b']]\n"
     ]
    }
   ],
   "source": [
    "l = [1, 3, 12, 34, 23, 34]\n",
    "l.extend([[2, 3], [\"a\", \"b\"]]) #take care 2 []\n",
    "print(l)"
   ]
  },
  {
   "cell_type": "code",
   "execution_count": 22,
   "metadata": {},
   "outputs": [
    {
     "name": "stdout",
     "output_type": "stream",
     "text": [
      "[43, 1, 3, 12, 34, 23, 34]\n"
     ]
    }
   ],
   "source": [
    "l = [1, 3, 12, 34, 23, 34]\n",
    "l.insert(0,43) #add that value to that position\n",
    "print(l)"
   ]
  },
  {
   "cell_type": "raw",
   "metadata": {},
   "source": [
    "pop is to delete element from index(position)\n",
    "remove is to remove a given value\n",
    "clear to remove all the elements from the list"
   ]
  },
  {
   "cell_type": "code",
   "execution_count": 25,
   "metadata": {},
   "outputs": [
    {
     "name": "stdout",
     "output_type": "stream",
     "text": [
      "[1, 3, 34, 23, 34]\n"
     ]
    }
   ],
   "source": [
    "l = [1, 3, 12, 34, 23, 34]\n",
    "l.pop(2)# here 12 is deleted as it is in 2nd position \n",
    "print(l)"
   ]
  },
  {
   "cell_type": "code",
   "execution_count": 27,
   "metadata": {},
   "outputs": [
    {
     "name": "stdout",
     "output_type": "stream",
     "text": [
      "[1, 12, 34, 23, 34, 3]\n"
     ]
    }
   ],
   "source": [
    "l = [1, 3, 12, 34, 23, 34, 3]\n",
    "l.remove(3)#removes the digit 3 (1st 3 only)\n",
    "print(l)"
   ]
  },
  {
   "cell_type": "code",
   "execution_count": 34,
   "metadata": {},
   "outputs": [
    {
     "name": "stdout",
     "output_type": "stream",
     "text": [
      "[]\n"
     ]
    }
   ],
   "source": [
    "l = [1, 3, 12, 34, 23, 34]\n",
    "l.clear()\n",
    "print(l)"
   ]
  },
  {
   "cell_type": "code",
   "execution_count": 1,
   "metadata": {},
   "outputs": [
    {
     "name": "stdout",
     "output_type": "stream",
     "text": [
      "2\n",
      "[1, 3, 12, 34, 23, 34]\n"
     ]
    }
   ],
   "source": [
    "l = [1, 3, 12, 34, 23, 34]\n",
    "print(l.count(34)) #count number of 34s like here 2\n",
    "print(l)"
   ]
  },
  {
   "cell_type": "code",
   "execution_count": 5,
   "metadata": {},
   "outputs": [
    {
     "name": "stdout",
     "output_type": "stream",
     "text": [
      "[34, 23, 34, 12, 3, 1]\n"
     ]
    }
   ],
   "source": [
    "l = [1, 3, 12, 34, 23, 34]\n",
    "l.reverse() #the list gets reversed\n",
    "print(l)"
   ]
  },
  {
   "cell_type": "code",
   "execution_count": 35,
   "metadata": {},
   "outputs": [
    {
     "name": "stdout",
     "output_type": "stream",
     "text": [
      "[1, 3, 12, 34, 23, 34]\n"
     ]
    }
   ],
   "source": [
    "l = [1, 3, 12, 34, 23, 34]\n",
    "l.sort() #change in ascending\n",
    "print(l)"
   ]
  },
  {
   "cell_type": "code",
   "execution_count": 46,
   "metadata": {},
   "outputs": [
    {
     "name": "stdout",
     "output_type": "stream",
     "text": [
      "[34, 34, 23, 12, 3, 1]\n"
     ]
    }
   ],
   "source": [
    "l = [1, 3, 12, 34, 23, 34]\n",
    "l.sort(reverse = True) #to change in descending\n",
    "print(l)"
   ]
  },
  {
   "cell_type": "code",
   "execution_count": 43,
   "metadata": {},
   "outputs": [
    {
     "data": {
      "text/plain": [
       "tuple"
      ]
     },
     "execution_count": 43,
     "metadata": {},
     "output_type": "execute_result"
    }
   ],
   "source": [
    "l = 1,2,3\n",
    "type(l)"
   ]
  },
  {
   "cell_type": "code",
   "execution_count": 16,
   "metadata": {},
   "outputs": [
    {
     "name": "stdout",
     "output_type": "stream",
     "text": [
      "[2, 34]\n"
     ]
    }
   ],
   "source": [
    "l = [11, 2, 34, 5, 6]\n",
    "print(l[1:3]) #in lists like we can give start index and end index\n",
    "#soln-- [2,34]"
   ]
  },
  {
   "cell_type": "code",
   "execution_count": 15,
   "metadata": {},
   "outputs": [
    {
     "name": "stdout",
     "output_type": "stream",
     "text": [
      "[11, 2, 34]\n"
     ]
    }
   ],
   "source": [
    "l = [11, 2, 34, 5, 6]\n",
    "print(l[0:3:1]) #[start index, end index, step(default step is 1)]\n",
    "#soln-- [11, 2, 34]"
   ]
  },
  {
   "cell_type": "code",
   "execution_count": 14,
   "metadata": {},
   "outputs": [
    {
     "name": "stdout",
     "output_type": "stream",
     "text": [
      "[11, 34]\n"
     ]
    }
   ],
   "source": [
    "l = [11, 2, 34, 5, 6]\n",
    "print(l[:3:2])\n",
    "#soln--[11,34]"
   ]
  },
  {
   "cell_type": "code",
   "execution_count": 13,
   "metadata": {},
   "outputs": [
    {
     "name": "stdout",
     "output_type": "stream",
     "text": [
      "[2, 34, 5, 6]\n"
     ]
    }
   ],
   "source": [
    "l = [11, 2, 34, 5, 6]\n",
    "print(l[1:])\n",
    "#soln-- [2, 34, 5,6]"
   ]
  },
  {
   "cell_type": "code",
   "execution_count": 12,
   "metadata": {},
   "outputs": [
    {
     "name": "stdout",
     "output_type": "stream",
     "text": [
      "[11, 34, 6]\n"
     ]
    }
   ],
   "source": [
    "l = [11, 2, 34, 5, 6]\n",
    "print(l[::2]) #no start then 0 index no end go till last\n",
    "#soln-- [11, 34, 6]"
   ]
  },
  {
   "cell_type": "code",
   "execution_count": 17,
   "metadata": {},
   "outputs": [
    {
     "name": "stdout",
     "output_type": "stream",
     "text": [
      "[11, 2, 34, 5, 6]\n"
     ]
    }
   ],
   "source": [
    "l = [11, 2, 34, 5, 6]\n",
    "print(l[::])\n",
    "#soln--[11, 2, 34, 5, 6]"
   ]
  },
  {
   "cell_type": "code",
   "execution_count": 19,
   "metadata": {},
   "outputs": [
    {
     "name": "stdout",
     "output_type": "stream",
     "text": [
      "[11, 2]\n"
     ]
    }
   ],
   "source": [
    "l = [11, 2, 34, 5, 6]\n",
    "print(l[:2])"
   ]
  },
  {
   "cell_type": "code",
   "execution_count": 5,
   "metadata": {},
   "outputs": [
    {
     "name": "stdout",
     "output_type": "stream",
     "text": [
      "[6, 5, 34, 2, 11]\n"
     ]
    }
   ],
   "source": [
    "l = [11, 2, 34, 5, 6]\n",
    "print(l[::-1]) #reverse\n",
    "#soln--[6, 5, 34, 2, 11]"
   ]
  },
  {
   "cell_type": "code",
   "execution_count": 9,
   "metadata": {},
   "outputs": [
    {
     "name": "stdout",
     "output_type": "stream",
     "text": [
      "[]\n"
     ]
    }
   ],
   "source": [
    "l = [11, 2, 34, 5, 6]\n",
    "print(l[1:0:1])#non reachable index"
   ]
  },
  {
   "cell_type": "code",
   "execution_count": 16,
   "metadata": {},
   "outputs": [
    {
     "name": "stdout",
     "output_type": "stream",
     "text": [
      "[6, 5, 34, 2, 11]\n"
     ]
    }
   ],
   "source": [
    "l = [11, 2, 34, 5, 6]\n",
    "print(l[::-1])"
   ]
  },
  {
   "cell_type": "markdown",
   "metadata": {},
   "source": [
    "# Tuple"
   ]
  },
  {
   "cell_type": "raw",
   "metadata": {},
   "source": [
    "Tupple are immutable irrespective of lists, which are mutable\n",
    "Slicing works in the same manner with tupple and string as is with list"
   ]
  },
  {
   "cell_type": "raw",
   "metadata": {},
   "source": [
    "T=()  EMPTY TUPLE\n",
    "T= tuple()"
   ]
  },
  {
   "cell_type": "code",
   "execution_count": 18,
   "metadata": {},
   "outputs": [
    {
     "data": {
      "text/plain": [
       "2"
      ]
     },
     "execution_count": 18,
     "metadata": {},
     "output_type": "execute_result"
    }
   ],
   "source": [
    "t = (2,3,4)\n",
    "t[0]"
   ]
  },
  {
   "cell_type": "code",
   "execution_count": 1,
   "metadata": {},
   "outputs": [
    {
     "name": "stdout",
     "output_type": "stream",
     "text": [
      "(1, 2, 'r')\n"
     ]
    }
   ],
   "source": [
    "t = tuple([1, 2, \"r\"])\n",
    "print(t)\n",
    "#soln --- (1,2,r)"
   ]
  },
  {
   "cell_type": "code",
   "execution_count": 2,
   "metadata": {},
   "outputs": [
    {
     "name": "stdout",
     "output_type": "stream",
     "text": [
      "Enter tupple: 234\n",
      "('2', '3', '4')\n"
     ]
    }
   ],
   "source": [
    "t = tuple(input(\"Enter tupple: \"))\n",
    "print(t)\n",
    "#soln--- 'a','b',3\n",
    "# ['a', 'b', 3]"
   ]
  },
  {
   "cell_type": "code",
   "execution_count": 1,
   "metadata": {},
   "outputs": [
    {
     "name": "stdout",
     "output_type": "stream",
     "text": [
      "Enter tuple : 'a', 'b', 3\n",
      "('a', 'b', 3)\n"
     ]
    }
   ],
   "source": [
    " t = eval(input(\"Enter tuple : \"))\n",
    "print(t)\n",
    "#soln --- 'a','b',3\n",
    "# ('a', 'b', 3)"
   ]
  },
  {
   "cell_type": "code",
   "execution_count": 5,
   "metadata": {},
   "outputs": [
    {
     "data": {
      "text/plain": [
       "(1, 2, 3, 4, 5, 6)"
      ]
     },
     "execution_count": 5,
     "metadata": {},
     "output_type": "execute_result"
    }
   ],
   "source": [
    "(1,2,3)+(4,5,6)\n",
    "#soln --- (1,2,3,4,5,6)"
   ]
  },
  {
   "cell_type": "raw",
   "metadata": {},
   "source": [
    "2*(12,23) (12,23,12,23)--replication"
   ]
  },
  {
   "cell_type": "code",
   "execution_count": 8,
   "metadata": {},
   "outputs": [
    {
     "name": "stdout",
     "output_type": "stream",
     "text": [
      "1 2 3 44 32 43 "
     ]
    }
   ],
   "source": [
    "#traverse elements\n",
    "t = (1, 2, 3, 44, 32, 43)\n",
    "for a in t:\n",
    "    print(a, end=\" \")"
   ]
  },
  {
   "cell_type": "code",
   "execution_count": 9,
   "metadata": {},
   "outputs": [
    {
     "name": "stdout",
     "output_type": "stream",
     "text": [
      "4\n"
     ]
    }
   ],
   "source": [
    "#functions\n",
    "t = (1, 2, 3, 4)\n",
    "print(len(t))"
   ]
  },
  {
   "cell_type": "code",
   "execution_count": 9,
   "metadata": {},
   "outputs": [
    {
     "name": "stdout",
     "output_type": "stream",
     "text": [
      "45\n"
     ]
    }
   ],
   "source": [
    "#to find greatest number\n",
    "l = [1, 2, 3, 45, 23, 31, 12]\n",
    "l.sort()\n",
    "print(l[len(l)-1])   "
   ]
  },
  {
   "cell_type": "code",
   "execution_count": 3,
   "metadata": {},
   "outputs": [
    {
     "name": "stdout",
     "output_type": "stream",
     "text": [
      "45\n"
     ]
    }
   ],
   "source": [
    "l = [1, 2, 3, 45, 23, 31, 12]\n",
    "p = max(l)\n",
    "print(p)"
   ]
  },
  {
   "cell_type": "code",
   "execution_count": 28,
   "metadata": {},
   "outputs": [
    {
     "name": "stdout",
     "output_type": "stream",
     "text": [
      "45\n"
     ]
    }
   ],
   "source": [
    "#to find greatest number using loop\n",
    "l = [1, 2, 3, 45, 23, 31, 12]\n",
    "ele = l[0]\n",
    "for i in l:\n",
    "    if ele < i:\n",
    "        ele = i\n",
    "print(ele)"
   ]
  },
  {
   "cell_type": "code",
   "execution_count": 35,
   "metadata": {},
   "outputs": [
    {
     "name": "stdout",
     "output_type": "stream",
     "text": [
      "[1, 2, 3]\n"
     ]
    }
   ],
   "source": [
    "l = [1, 1, 2, 2, 3]\n",
    "ele = l[0]\n",
    "for i in l:\n",
    "    if ele == i:\n",
    "        l.remove(ele)\n",
    "    elif ele>i:\n",
    "        ele=i\n",
    "    else:\n",
    "        ele=i\n",
    "print(l)"
   ]
  },
  {
   "cell_type": "code",
   "execution_count": 55,
   "metadata": {},
   "outputs": [
    {
     "name": "stdout",
     "output_type": "stream",
     "text": [
      "[1, 2, 3]\n"
     ]
    }
   ],
   "source": [
    "l = [1, 1, 2, 2, 3]\n",
    "ele = l[0]\n",
    "for i in l:\n",
    "    if ele == i:\n",
    "        l.remove(i)\n",
    "    else:\n",
    "        ele=i\n",
    "print(l)"
   ]
  },
  {
   "cell_type": "code",
   "execution_count": 3,
   "metadata": {},
   "outputs": [
    {
     "name": "stdout",
     "output_type": "stream",
     "text": [
      "[1, 3]\n"
     ]
    }
   ],
   "source": [
    "l = [1, 2, 3]\n",
    "del l[1] #delete the indexed function\n",
    "print(l)"
   ]
  },
  {
   "cell_type": "code",
   "execution_count": 6,
   "metadata": {},
   "outputs": [
    {
     "name": "stdout",
     "output_type": "stream",
     "text": [
      "[30, 40]\n"
     ]
    }
   ],
   "source": [
    "x = [10, 20, 30, 40]\n",
    "del x[0:2]\n",
    "print(x)"
   ]
  },
  {
   "cell_type": "code",
   "execution_count": 5,
   "metadata": {},
   "outputs": [
    {
     "name": "stdout",
     "output_type": "stream",
     "text": [
      "[4, 5, 6]\n"
     ]
    }
   ],
   "source": [
    "l = [4,5,6]\n",
    "x = l #to copy a list\n",
    "print(x)"
   ]
  },
  {
   "cell_type": "code",
   "execution_count": 6,
   "metadata": {},
   "outputs": [
    {
     "name": "stdout",
     "output_type": "stream",
     "text": [
      "[4, 5, 6]\n"
     ]
    }
   ],
   "source": [
    "l = [4,5,6]\n",
    "x = l.copy() #to copy a list\n",
    "print(x)"
   ]
  },
  {
   "cell_type": "code",
   "execution_count": 8,
   "metadata": {},
   "outputs": [
    {
     "name": "stdout",
     "output_type": "stream",
     "text": [
      "h-e-l-l-o- -k-a-v-y-a\n"
     ]
    }
   ],
   "source": [
    "print(\"-\".join(\"hello kavya\"))"
   ]
  },
  {
   "cell_type": "code",
   "execution_count": 10,
   "metadata": {},
   "outputs": [
    {
     "name": "stdout",
     "output_type": "stream",
     "text": [
      "hello-kavya\n"
     ]
    }
   ],
   "source": [
    "print(\"-\".join([\"hello\", \"kavya\"]))"
   ]
  },
  {
   "cell_type": "code",
   "execution_count": 12,
   "metadata": {},
   "outputs": [
    {
     "name": "stdout",
     "output_type": "stream",
     "text": [
      "10\n",
      "[None, None, None, None, None, None, None, None, None, None]\n"
     ]
    }
   ],
   "source": [
    "print(len([None]*10))\n",
    "print([None] * 10)"
   ]
  },
  {
   "cell_type": "code",
   "execution_count": 16,
   "metadata": {},
   "outputs": [
    {
     "name": "stdout",
     "output_type": "stream",
     "text": [
      "a\n",
      "t\n"
     ]
    }
   ],
   "source": [
    "x = [\"PYnative\",[4,8,12,16]]\n",
    "print(x[0][3])\n",
    "print(x[0][4])"
   ]
  },
  {
   "cell_type": "code",
   "execution_count": 5,
   "metadata": {},
   "outputs": [
    {
     "name": "stdout",
     "output_type": "stream",
     "text": [
      "Enter a tupple: 23, 23, 23\n",
      "Tupple contains all the same element.\n"
     ]
    }
   ],
   "source": [
    "# to check if all the entered numberss are same\n",
    "x = eval(input(\"Enter a tupple: \"))\n",
    "p = len(x)\n",
    "num = x.count(x[0])\n",
    "if num == p:\n",
    "    print(\"Tupple contains all the same element.\")\n",
    "else:\n",
    "    print(\"Tupple contains different elements.\")"
   ]
  },
  {
   "cell_type": "code",
   "execution_count": 7,
   "metadata": {},
   "outputs": [
    {
     "name": "stdout",
     "output_type": "stream",
     "text": [
      "[1, 2, 23, 27, 71]\n"
     ]
    }
   ],
   "source": [
    "#sorted arranges in ascending order like sort difference is that sort can only work in list while sorted works in all data types\n",
    "x = (2, 27,71, 1, 23)\n",
    "p = sorted(x)\n",
    "print(p)"
   ]
  }
 ],
 "metadata": {
  "kernelspec": {
   "display_name": "Python 3",
   "language": "python",
   "name": "python3"
  },
  "language_info": {
   "codemirror_mode": {
    "name": "ipython",
    "version": 3
   },
   "file_extension": ".py",
   "mimetype": "text/x-python",
   "name": "python",
   "nbconvert_exporter": "python",
   "pygments_lexer": "ipython3",
   "version": "3.8.5"
  }
 },
 "nbformat": 4,
 "nbformat_minor": 4
}
