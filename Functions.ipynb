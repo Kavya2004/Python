{
 "cells": [
  {
   "cell_type": "code",
   "execution_count": 9,
   "metadata": {},
   "outputs": [
    {
     "name": "stdout",
     "output_type": "stream",
     "text": [
      "11\n"
     ]
    }
   ],
   "source": [
    "def sum(x,y):\n",
    "    summ = x+y\n",
    "    return summ\n",
    "x = 5\n",
    "y = 6\n",
    "s = sumOfNumbers(x,y)\n",
    "print(s)"
   ]
  },
  {
   "cell_type": "code",
   "execution_count": 15,
   "metadata": {},
   "outputs": [
    {
     "name": "stdout",
     "output_type": "stream",
     "text": [
      "11\n"
     ]
    }
   ],
   "source": [
    "def sum():\n",
    "    x  = 5\n",
    "    y = 6\n",
    "    c = x+y\n",
    "    print(c)\n",
    "sum()"
   ]
  },
  {
   "cell_type": "code",
   "execution_count": 16,
   "metadata": {},
   "outputs": [
    {
     "name": "stdout",
     "output_type": "stream",
     "text": [
      "Enter your number: 3\n",
      "odd\n"
     ]
    }
   ],
   "source": [
    "#to check odd and even number\n",
    "def check():\n",
    "    a = int(input(\"Enter your number: \"))\n",
    "    if a%2==0:\n",
    "        print(\"even\")\n",
    "    else:\n",
    "        print(\"odd\")\n",
    "check()"
   ]
  },
  {
   "cell_type": "code",
   "execution_count": 4,
   "metadata": {},
   "outputs": [
    {
     "name": "stdout",
     "output_type": "stream",
     "text": [
      "Enter first number: 2\n",
      "Enter first number: 3\n",
      "Addition: 5\n"
     ]
    }
   ],
   "source": [
    "def add():\n",
    "    x = int(input(\"Enter first number: \"))\n",
    "    y = int(input(\"Enter first number: \"))\n",
    "    c = x+y\n",
    "    print(\"Addition:\",c)\n",
    "add()"
   ]
  },
  {
   "cell_type": "code",
   "execution_count": 3,
   "metadata": {},
   "outputs": [
    {
     "name": "stdout",
     "output_type": "stream",
     "text": [
      "Addition: 11\n"
     ]
    }
   ],
   "source": [
    "def add(a,b):\n",
    "    c= a+b\n",
    "    print(\"Addition:\",c)\n",
    "add(5,6)"
   ]
  },
  {
   "cell_type": "code",
   "execution_count": 5,
   "metadata": {},
   "outputs": [
    {
     "name": "stdout",
     "output_type": "stream",
     "text": [
      "Enter first number: 2\n",
      "Enter first number: 3\n",
      "Addition: 5\n"
     ]
    }
   ],
   "source": [
    "def add(a,b):\n",
    "    c= a+b\n",
    "    print(\"Addition:\",c)\n",
    "a= int(input(\"Enter first number: \"))\n",
    "b = int(input(\"Enter first number: \"))\n",
    "add(a,b)"
   ]
  },
  {
   "cell_type": "code",
   "execution_count": 7,
   "metadata": {},
   "outputs": [
    {
     "name": "stdout",
     "output_type": "stream",
     "text": [
      "Enter first number: 2\n",
      "Enter first number: 3\n",
      "Addition: 5\n"
     ]
    }
   ],
   "source": [
    "def add(a,b):\n",
    "    c= a+b\n",
    "    return c\n",
    "a= int(input(\"Enter first number: \"))\n",
    "b = int(input(\"Enter first number: \"))\n",
    "z = add(a,b)\n",
    "print(\"Addition:\",z)"
   ]
  },
  {
   "cell_type": "code",
   "execution_count": 6,
   "metadata": {},
   "outputs": [
    {
     "name": "stdout",
     "output_type": "stream",
     "text": [
      "Addition: 15\n",
      "Addition: 30\n"
     ]
    }
   ],
   "source": [
    "def add(a,b=5): #here b=5 is a default argument\n",
    "        c = a+b\n",
    "        print(\"Addition:\",c)\n",
    "add(10)\n",
    "add(10,20)"
   ]
  },
  {
   "cell_type": "raw",
   "metadata": {},
   "source": [
    "If you have started giving default argument then you also have to give the left variables a value\n",
    "eg: (a,b=6,c) is wrong but (a,b=5,c=6) is right"
   ]
  },
  {
   "cell_type": "code",
   "execution_count": 7,
   "metadata": {},
   "outputs": [
    {
     "name": "stdout",
     "output_type": "stream",
     "text": [
      "Interest: 1000.0\n",
      "Interest: 1000.0\n"
     ]
    }
   ],
   "source": [
    "#Sequence of the argument can be changed using the keyword/named argument\n",
    "def interest(prin,rate,time):\n",
    "    i=(prin*rate*time)/100\n",
    "    print(\"Interest:\",i)\n",
    "interest(5000,10,2)#positional argument\n",
    "interest(rate=10,time=2,prin=5000) #keyword argument"
   ]
  },
  {
   "cell_type": "raw",
   "metadata": {},
   "source": [
    "Scope of variable\n",
    "1) Global Variable - which is not a part of any function. It can be used in any function.\n",
    "2) Local Variable - A Local Variable which is a part of a function and that's why it can be used only within that function."
   ]
  },
  {
   "cell_type": "code",
   "execution_count": 6,
   "metadata": {},
   "outputs": [
    {
     "name": "stdout",
     "output_type": "stream",
     "text": [
      "Enter first number: 2\n",
      "Enter second number: 3\n",
      "Addition: 5\n",
      "value of first number= 2\n",
      "value of second number= 3\n",
      "Subtraction: -1\n"
     ]
    }
   ],
   "source": [
    "def add(a,b):\n",
    "    c=a+b\n",
    "    print(\"Addition:\",c)\n",
    "    print(\"value of first number=\",m)\n",
    "    print(\"value of second number=\",n)\n",
    "#a,b,c are local variables\n",
    "def subtr(x,y):\n",
    "    z = x-y\n",
    "    print(\"Subtraction:\",z)\n",
    "#x,y,z are local variables\n",
    "#__main__\n",
    "#under main or above def are all global variables\n",
    "m = int(input(\"Enter first number: \"))\n",
    "n = int(input(\"Enter second number: \"))\n",
    "add(m,n)\n",
    "subtr(m,n)"
   ]
  },
  {
   "cell_type": "code",
   "execution_count": 13,
   "metadata": {},
   "outputs": [
    {
     "name": "stdout",
     "output_type": "stream",
     "text": [
      "a: 10\n",
      "a: 5\n",
      "a: 10\n"
     ]
    }
   ],
   "source": [
    "def demo():\n",
    "    a = 5\n",
    "    print(\"a:\",a)\n",
    "a=10\n",
    "print(\"a:\",a) #takes value of global variable\n",
    "demo() #takes value of local variable\n",
    "print(\"a:\",a) #takes value of global variable"
   ]
  },
  {
   "cell_type": "code",
   "execution_count": 14,
   "metadata": {},
   "outputs": [
    {
     "name": "stdout",
     "output_type": "stream",
     "text": [
      "a: 10\n",
      "a: 5\n",
      "a: 5\n"
     ]
    }
   ],
   "source": [
    "def demo():\n",
    "    global a\n",
    "    a = 5\n",
    "    print(\"a:\",a)\n",
    "a=10\n",
    "print(\"a:\",a) \n",
    "demo() \n",
    "print(\"a:\",a)#takes value of 5 due to global a"
   ]
  },
  {
   "cell_type": "code",
   "execution_count": 3,
   "metadata": {},
   "outputs": [
    {
     "name": "stdout",
     "output_type": "stream",
     "text": [
      "value of a: 20\n",
      "a: 15\n",
      "value of a: 20\n"
     ]
    }
   ],
   "source": [
    "def demo():\n",
    "    a=5\n",
    "    a=a+10\n",
    "    print(\"a:\",a)\n",
    "a=20\n",
    "print(\"value of a:\",a)\n",
    "demo()\n",
    "print(\"value of a:\",a)"
   ]
  },
  {
   "cell_type": "code",
   "execution_count": 12,
   "metadata": {},
   "outputs": [
    {
     "name": "stdout",
     "output_type": "stream",
     "text": [
      "value of a: 20\n",
      "a: 30\n",
      "value of a: 20\n"
     ]
    }
   ],
   "source": [
    "def demo(a):\n",
    "    a=a+10\n",
    "    print(\"a:\",a)\n",
    "a=20\n",
    "print(\"value of a:\",a)\n",
    "demo(a)\n",
    "print(\"value of a:\",a)"
   ]
  },
  {
   "cell_type": "code",
   "execution_count": 11,
   "metadata": {},
   "outputs": [
    {
     "name": "stdout",
     "output_type": "stream",
     "text": [
      "[1, 2, 3, 5]\n",
      "[11, 2, 3, 5]\n",
      "[11, 2, 3, 5]\n"
     ]
    }
   ],
   "source": [
    "def demo(mylist):\n",
    "    mylist[0]=mylist[0]+10\n",
    "    print(mylist)\n",
    "list1=[1,2,3,5]\n",
    "print(list1)\n",
    "demo(list1)\n",
    "print(list1)"
   ]
  },
  {
   "cell_type": "code",
   "execution_count": 1,
   "metadata": {},
   "outputs": [
    {
     "name": "stdout",
     "output_type": "stream",
     "text": [
      "120\n",
      "6\n"
     ]
    }
   ],
   "source": [
    "#factorial of a number\n",
    "def fact(n):\n",
    "    f=1\n",
    "    for i in range(2,n+1):\n",
    "        f=f*i\n",
    "    return f\n",
    "f1=fact(5)\n",
    "print(f1)\n",
    "f2=fact(3)\n",
    "print(f2)"
   ]
  },
  {
   "cell_type": "code",
   "execution_count": 10,
   "metadata": {},
   "outputs": [
    {
     "name": "stdout",
     "output_type": "stream",
     "text": [
      "1.5\n"
     ]
    }
   ],
   "source": [
    "#Sn=1/1!+1/2!+.........+/p!\n",
    "def fact(n):\n",
    "    f=1\n",
    "    for i in range(2,n+1):\n",
    "        f=f*i\n",
    "    return f\n",
    "f1=fact(5)\n",
    "def seriescalc(p):\n",
    "    ans=0\n",
    "    for j in range(1,p+1):\n",
    "        ans=ans+1/fact(j)\n",
    "    return ans\n",
    "x=seriescalc(2)\n",
    "print(x)"
   ]
  },
  {
   "cell_type": "code",
   "execution_count": 13,
   "metadata": {},
   "outputs": [
    {
     "name": "stdout",
     "output_type": "stream",
     "text": [
      "120\n"
     ]
    }
   ],
   "source": [
    "f=1\n",
    "def fact(n):\n",
    "    global f\n",
    "    for i in range(2,n+1):\n",
    "        f=f*i\n",
    "    return f\n",
    "f1=fact(5)\n",
    "print(f1)"
   ]
  },
  {
   "cell_type": "code",
   "execution_count": 14,
   "metadata": {},
   "outputs": [
    {
     "name": "stdout",
     "output_type": "stream",
     "text": [
      "6\n"
     ]
    }
   ],
   "source": [
    "#area of rectangle\n",
    "def areaR(l,b):\n",
    "    area=l*b\n",
    "    return area\n",
    "print(areaR(2,3))"
   ]
  },
  {
   "cell_type": "code",
   "execution_count": 18,
   "metadata": {},
   "outputs": [
    {
     "name": "stdout",
     "output_type": "stream",
     "text": [
      "(3, 4)\n"
     ]
    }
   ],
   "source": [
    "def sump(a,b):\n",
    "    return a,b\n",
    "print(sump(3,4)) #value will be returned as a tuple"
   ]
  },
  {
   "cell_type": "code",
   "execution_count": null,
   "metadata": {},
   "outputs": [],
   "source": [
    "#program that receives two numbers in a function and returns the results of all arithemetic operations on the numbers\n",
    "def calc(x,y):\n",
    "    return x+y,x-y,x*y,x/y,x%y\n",
    "num1=int(input(\"Enter your first number: \"))\n",
    "num2=int(input(\"Enter your second number: \"))\n",
    "add,sub,mult,div,mod=calc(num1,num2)\n",
    "print(\"Sum of numbers is: \",sum)\n",
    "print(\"Subtraction of numbers is: \",sub)\n",
    "print(\"Multiplication of numbers is: \",mult)\n",
    "print(\"Division of numbers is: \",div)\n",
    "print(\"Remainder of numbers is: \",mod)"
   ]
  }
 ],
 "metadata": {
  "kernelspec": {
   "display_name": "Python 3",
   "language": "python",
   "name": "python3"
  },
  "language_info": {
   "codemirror_mode": {
    "name": "ipython",
    "version": 3
   },
   "file_extension": ".py",
   "mimetype": "text/x-python",
   "name": "python",
   "nbconvert_exporter": "python",
   "pygments_lexer": "ipython3",
   "version": "3.8.5"
  }
 },
 "nbformat": 4,
 "nbformat_minor": 4
}
