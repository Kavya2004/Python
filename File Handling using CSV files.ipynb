{
 "cells": [
  {
   "cell_type": "code",
   "execution_count": 23,
   "metadata": {},
   "outputs": [
    {
     "name": "stdout",
     "output_type": "stream",
     "text": [
      "Enter your roll number: 1\n",
      "Enter name: Kavya\n",
      "Enter total marks: 100\n",
      "1-> Enter more\n",
      "2-> Exit\n",
      " Enter choice: 1\n",
      "Enter your roll number: 2\n",
      "Enter name: Anita\n",
      "Enter total marks: 89\n",
      "1-> Enter more\n",
      "2-> Exit\n",
      " Enter choice: 1\n",
      "Enter your roll number: 3\n",
      "Enter name: Shivani\n",
      "Enter total marks: 99\n",
      "1-> Enter more\n",
      "2-> Exit\n",
      " Enter choice: 1\n",
      "Enter your roll number: 4\n",
      "Enter name: Sneha\n",
      "Enter total marks: 94\n",
      "1-> Enter more\n",
      "2-> Exit\n",
      " Enter choice: 2\n"
     ]
    }
   ],
   "source": [
    "import csv\n",
    "def create():\n",
    "    with open(\"details.csv\",\"w\",newline='') as obj:\n",
    "        fobj = csv.writer(obj)\n",
    "        fobj.writerow(['Roll_Number','Name','Total_Marks'])\n",
    "        while True:\n",
    "            roll = int(input(\"Enter your roll number: \"))\n",
    "            name = input(\"Enter name: \")\n",
    "            total = int(input(\"Enter total marks: \"))\n",
    "            record = [roll, name, total]\n",
    "            fobj.writerow(record)\n",
    "            ch = int(input(\"1-> Enter more\\n2-> Exit\\n Enter choice: \"))\n",
    "            if ch==2:\n",
    "                break\n",
    "create()"
   ]
  },
  {
   "cell_type": "code",
   "execution_count": 24,
   "metadata": {},
   "outputs": [
    {
     "name": "stdout",
     "output_type": "stream",
     "text": [
      "['Roll_Number', 'Name', 'Total_Marks']\n",
      "['1', 'Kavya', '100']\n",
      "['2', 'Anita', '89']\n",
      "['3', 'Shivani', '99']\n",
      "['4', 'Sneha', '94']\n"
     ]
    }
   ],
   "source": [
    "def display():\n",
    "    with open(\"details.csv\",\"r\") as obj:\n",
    "        fobj = csv.reader(obj)\n",
    "        for i in fobj:\n",
    "            print(i)\n",
    "display()"
   ]
  },
  {
   "cell_type": "code",
   "execution_count": 26,
   "metadata": {},
   "outputs": [
    {
     "name": "stdout",
     "output_type": "stream",
     "text": [
      "['1', 'Kavya', '100']\n",
      "['3', 'Shivani', '99']\n",
      "['4', 'Sneha', '94']\n"
     ]
    }
   ],
   "source": [
    "def search():\n",
    "    with open(\"details.csv\",\"r\") as obj:\n",
    "        fobj = csv.reader(obj)\n",
    "        next(fobj)\n",
    "        for i in fobj:\n",
    "            if int(i[2])>90:\n",
    "                print(i)\n",
    "search()"
   ]
  }
 ],
 "metadata": {
  "kernelspec": {
   "display_name": "Python 3",
   "language": "python",
   "name": "python3"
  },
  "language_info": {
   "codemirror_mode": {
    "name": "ipython",
    "version": 3
   },
   "file_extension": ".py",
   "mimetype": "text/x-python",
   "name": "python",
   "nbconvert_exporter": "python",
   "pygments_lexer": "ipython3",
   "version": "3.8.5"
  }
 },
 "nbformat": 4,
 "nbformat_minor": 4
}
