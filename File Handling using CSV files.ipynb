{
 "cells": [
  {
   "cell_type": "code",
   "execution_count": 23,
   "metadata": {},
   "outputs": [
    {
     "name": "stdout",
     "output_type": "stream",
     "text": [
      "Enter your roll number: 1\n",
      "Enter name: Kavya\n",
      "Enter total marks: 100\n",
      "1-> Enter more\n",
      "2-> Exit\n",
      " Enter choice: 1\n",
      "Enter your roll number: 2\n",
      "Enter name: Anita\n",
      "Enter total marks: 89\n",
      "1-> Enter more\n",
      "2-> Exit\n",
      " Enter choice: 1\n",
      "Enter your roll number: 3\n",
      "Enter name: Shivani\n",
      "Enter total marks: 99\n",
      "1-> Enter more\n",
      "2-> Exit\n",
      " Enter choice: 1\n",
      "Enter your roll number: 4\n",
      "Enter name: Sneha\n",
      "Enter total marks: 94\n",
      "1-> Enter more\n",
      "2-> Exit\n",
      " Enter choice: 2\n"
     ]
    }
   ],
   "source": [
    "import csv\n",
    "def create():\n",
    "    with open(\"details.csv\",\"w\",newline='') as obj:\n",
    "        fobj = csv.writer(obj)\n",
    "        fobj.writerow(['Roll_Number','Name','Total_Marks'])\n",
    "        while True:\n",
    "            roll = int(input(\"Enter your roll number: \"))\n",
    "            name = input(\"Enter name: \")\n",
    "            total = int(input(\"Enter total marks: \"))\n",
    "            record = [roll, name, total]\n",
    "            fobj.writerow(record)\n",
    "            ch = int(input(\"1-> Enter more\\n2-> Exit\\n Enter choice: \"))\n",
    "            if ch==2:\n",
    "                break\n",
    "create()"
   ]
  },
  {
   "cell_type": "code",
   "execution_count": 24,
   "metadata": {},
   "outputs": [
    {
     "name": "stdout",
     "output_type": "stream",
     "text": [
      "['Roll_Number', 'Name', 'Total_Marks']\n",
      "['1', 'Kavya', '100']\n",
      "['2', 'Anita', '89']\n",
      "['3', 'Shivani', '99']\n",
      "['4', 'Sneha', '94']\n"
     ]
    }
   ],
   "source": [
    "def display():\n",
    "    with open(\"details.csv\",\"r\") as obj:\n",
    "        fobj = csv.reader(obj)\n",
    "        for i in fobj:\n",
    "            print(i)\n",
    "display()"
   ]
  },
  {
   "cell_type": "code",
   "execution_count": 26,
   "metadata": {},
   "outputs": [
    {
     "name": "stdout",
     "output_type": "stream",
     "text": [
      "['1', 'Kavya', '100']\n",
      "['3', 'Shivani', '99']\n",
      "['4', 'Sneha', '94']\n"
     ]
    }
   ],
   "source": [
    "def search():\n",
    "    with open(\"details.csv\",\"r\") as obj:\n",
    "        fobj = csv.reader(obj)\n",
    "        next(fobj)\n",
    "        for i in fobj:\n",
    "            if int(i[2])>90:\n",
    "                print(i)\n",
    "search()"
   ]
  },
  {
   "cell_type": "raw",
   "metadata": {},
   "source": [
    "2"
   ]
  },
  {
   "cell_type": "code",
   "execution_count": 5,
   "metadata": {},
   "outputs": [
    {
     "name": "stdout",
     "output_type": "stream",
     "text": [
      "Enter roll number: 1\n",
      "Enter name: Kavya\n",
      "Enter total: 99\n",
      "1-Enter more\n",
      "2-Exit\n",
      "Enter your choice: 1\n",
      "Enter roll number: 2\n",
      "Enter name: Sam\n",
      "Enter total: 91\n",
      "1-Enter more\n",
      "2-Exit\n",
      "Enter your choice: 1\n",
      "Enter roll number: 3\n",
      "Enter name: Dhruv\n",
      "Enter total: 82\n",
      "1-Enter more\n",
      "2-Exit\n",
      "Enter your choice: 1\n",
      "Enter roll number: 4\n",
      "Enter name: Vedant\n",
      "Enter total: 88\n",
      "1-Enter more\n",
      "2-Exit\n",
      "Enter your choice: 1\n",
      "Enter roll number: 5\n",
      "Enter name: Dane\n",
      "Enter total: 98\n",
      "1-Enter more\n",
      "2-Exit\n",
      "Enter your choice: 2\n"
     ]
    }
   ],
   "source": [
    "import csv \n",
    "def create():\n",
    "    with open(\"class.csv\",\"w\",newline='') as ob:\n",
    "        fob=csv.writer(ob)\n",
    "        fob.writerow(['Roll','Name','Total'])\n",
    "        while True:\n",
    "            roll = int(input(\"Enter roll number: \"))\n",
    "            name = input(\"Enter name: \")\n",
    "            total = int(input(\"Enter total: \"))\n",
    "            rec = [roll, name, total]\n",
    "            fob.writerow(rec)\n",
    "            ch=int(input(\"1-Enter more\\n2-Exit\\nEnter your choice: \"))\n",
    "            if ch==2:\n",
    "                break\n",
    "create()"
   ]
  },
  {
   "cell_type": "code",
   "execution_count": 7,
   "metadata": {},
   "outputs": [
    {
     "name": "stdout",
     "output_type": "stream",
     "text": [
      "['1', 'Kavya', '99']\n",
      "['2', 'Sam', '91']\n",
      "['5', 'Dane', '98']\n"
     ]
    }
   ],
   "source": [
    "def search():\n",
    "    with open(\"class.csv\",\"r\") as ob:\n",
    "        fob = csv.reader(ob)\n",
    "        next(fob)\n",
    "        for i in fob:\n",
    "            if int(i[2])>90:\n",
    "                print(i)\n",
    "search()"
   ]
  },
  {
   "cell_type": "code",
   "execution_count": 15,
   "metadata": {},
   "outputs": [
    {
     "name": "stdout",
     "output_type": "stream",
     "text": [
      "Enter roll number to be searched: 1\n",
      "['1', 'Kavya', '99']\n"
     ]
    }
   ],
   "source": [
    "def find():\n",
    "    x=0\n",
    "    rolln=int(input(\"Enter roll number to be searched: \"))\n",
    "    with open(\"class.csv\",\"r\") as o:\n",
    "        fo=csv.reader(o)\n",
    "        next(fo)\n",
    "        for i in fo:\n",
    "            if int(i[0])==rolln:\n",
    "                print(i)\n",
    "                x=x+1\n",
    "                break\n",
    "        if x==0:\n",
    "            print(\"Data not formed\")\n",
    "find()"
   ]
  },
  {
   "cell_type": "code",
   "execution_count": 20,
   "metadata": {},
   "outputs": [
    {
     "name": "stdout",
     "output_type": "stream",
     "text": [
      "max marks details are: \n",
      "1 Kavya 99\n"
     ]
    }
   ],
   "source": [
    "def marks():\n",
    "    max=0\n",
    "    with open(\"class.csv\",\"r\",newline='') as obj:\n",
    "        fobj=csv.reader(obj)\n",
    "        next(fobj)\n",
    "        for i in fobj:\n",
    "            if int(i[2])>int(max):\n",
    "                r=i[0]\n",
    "                n=i[1]\n",
    "                t=i[2]\n",
    "                max=i[2]\n",
    "        print(\"max marks details are: \")\n",
    "        print(r,n,t)\n",
    "marks()"
   ]
  }
 ],
 "metadata": {
  "kernelspec": {
   "display_name": "Python 3",
   "language": "python",
   "name": "python3"
  },
  "language_info": {
   "codemirror_mode": {
    "name": "ipython",
    "version": 3
   },
   "file_extension": ".py",
   "mimetype": "text/x-python",
   "name": "python",
   "nbconvert_exporter": "python",
   "pygments_lexer": "ipython3",
   "version": "3.8.5"
  }
 },
 "nbformat": 4,
 "nbformat_minor": 4
}
