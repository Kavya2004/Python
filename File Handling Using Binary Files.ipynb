{
 "cells": [
  {
   "cell_type": "code",
   "execution_count": 1,
   "metadata": {},
   "outputs": [
    {
     "name": "stdout",
     "output_type": "stream",
     "text": [
      "Data stored successfully\n"
     ]
    }
   ],
   "source": [
    "#to write a list\n",
    "import pickle\n",
    "def write():\n",
    "    f=open(\"myfile.dat\",\"wb\")\n",
    "    lst = ['Ram','Shyam','Sita','Gita']\n",
    "    pickle.dump(lst,f)\n",
    "    f.close()\n",
    "write()\n",
    "print(\"Data stored successfully\")"
   ]
  },
  {
   "cell_type": "code",
   "execution_count": 2,
   "metadata": {},
   "outputs": [
    {
     "name": "stdout",
     "output_type": "stream",
     "text": [
      "['Ram', 'Shyam', 'Sita', 'Gita']\n"
     ]
    }
   ],
   "source": [
    "def readfile():\n",
    "    f=open(\"myfile.dat\",\"rb\")\n",
    "    list1=pickle.load(f)\n",
    "    print(list1)\n",
    "    f.close()\n",
    "readfile()"
   ]
  },
  {
   "cell_type": "code",
   "execution_count": 10,
   "metadata": {},
   "outputs": [
    {
     "name": "stdout",
     "output_type": "stream",
     "text": [
      "Data stored successfully\n"
     ]
    }
   ],
   "source": [
    "import pickle\n",
    "def writedict():\n",
    "    f=open(\"myfile.dat\",\"wb\")\n",
    "    dict1={'roll':1,'name':'Anup','marks':98}\n",
    "    pickle.dump(dict1,f)\n",
    "    f.close()\n",
    "writedict()\n",
    "print(\"Data stored successfully\")"
   ]
  },
  {
   "cell_type": "code",
   "execution_count": 12,
   "metadata": {},
   "outputs": [
    {
     "name": "stdout",
     "output_type": "stream",
     "text": [
      "{'roll': 1, 'name': 'Anup', 'marks': 98}\n"
     ]
    }
   ],
   "source": [
    "def readdict():\n",
    "    f=open(\"myfile.dat\",\"rb\")\n",
    "    dict=pickle.load(f)\n",
    "    print(dict)\n",
    "    f.close()\n",
    "readdict()"
   ]
  },
  {
   "cell_type": "code",
   "execution_count": 3,
   "metadata": {},
   "outputs": [
    {
     "name": "stdout",
     "output_type": "stream",
     "text": [
      "Enter roll: 1\n",
      "Enter name: Sid\n",
      "Enter marks: 100\n",
      "Enter more records (Y/N)?Y\n",
      "Enter roll: 2\n",
      "Enter name: Anirudh\n",
      "Enter marks: 87\n",
      "Enter more records (Y/N)?Y\n",
      "Enter roll: 3\n",
      "Enter name: Anya\n",
      "Enter marks: 78\n",
      "Enter more records (Y/N)?Y\n",
      "Enter roll: 4\n",
      "Enter name: Sarah\n",
      "Enter marks: 99\n",
      "Enter more records (Y/N)?Y\n",
      "Enter roll: 5\n",
      "Enter name: Gayatri\n",
      "Enter marks: 84\n",
      "Enter more records (Y/N)?N\n",
      "Data stored successfully\n"
     ]
    }
   ],
   "source": [
    "import pickle\n",
    "def write():\n",
    "    f=open(\"myfiles.dat\",\"wb\")\n",
    "    record=[] #empty list\n",
    "    while True:\n",
    "        roll = int(input(\"Enter roll: \"))\n",
    "        name = input(\"Enter name: \")\n",
    "        marks = int(input(\"Enter marks: \"))\n",
    "        list1=[roll,name,marks]\n",
    "        record.append(list1)\n",
    "        choice=input(\"Enter more records (Y/N)?\")\n",
    "        if choice =='N':\n",
    "            break\n",
    "    pickle.dump(record,f)\n",
    "    print(\"Data stored successfully\")\n",
    "write()"
   ]
  },
  {
   "cell_type": "code",
   "execution_count": 4,
   "metadata": {},
   "outputs": [
    {
     "name": "stdout",
     "output_type": "stream",
     "text": [
      "[1, 'Sid', 100]\n",
      "[2, 'Anirudh', 87]\n",
      "[3, 'Anya', 78]\n",
      "[4, 'Sarah', 99]\n",
      "[5, 'Gayatri', 84]\n"
     ]
    }
   ],
   "source": [
    "def read():\n",
    "    f = open(\"myfiles.dat\",\"rb\")\n",
    "    r = pickle.load(f)\n",
    "    for i in r:\n",
    "        print(i)\n",
    "read()"
   ]
  },
  {
   "cell_type": "code",
   "execution_count": 5,
   "metadata": {},
   "outputs": [
    {
     "name": "stdout",
     "output_type": "stream",
     "text": [
      "Enter roll number to be searched: 1\n",
      "[1, 'Sid', 100]\n"
     ]
    }
   ],
   "source": [
    "def search():\n",
    "    f = open(\"myfiles.dat\",\"rb\")\n",
    "    roll_no = int(input(\"Enter roll number to be searched: \"))\n",
    "    flag = 0\n",
    "    r = pickle.load(f)\n",
    "    for i in r:\n",
    "        if i[0]==roll_no:\n",
    "            print(i)\n",
    "            flag = 1\n",
    "            break\n",
    "    if flag==0:\n",
    "        print(\"Roll Number not found.\")\n",
    "search()"
   ]
  }
 ],
 "metadata": {
  "kernelspec": {
   "display_name": "Python 3",
   "language": "python",
   "name": "python3"
  },
  "language_info": {
   "codemirror_mode": {
    "name": "ipython",
    "version": 3
   },
   "file_extension": ".py",
   "mimetype": "text/x-python",
   "name": "python",
   "nbconvert_exporter": "python",
   "pygments_lexer": "ipython3",
   "version": "3.8.5"
  }
 },
 "nbformat": 4,
 "nbformat_minor": 4
}
