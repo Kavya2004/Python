{
 "cells": [
  {
   "cell_type": "code",
   "execution_count": 8,
   "metadata": {},
   "outputs": [
    {
     "name": "stdout",
     "output_type": "stream",
     "text": [
      "[1, 2, 3, 4, 5, 6, 7, 8, 9, 10]\n",
      "1\n",
      "2 ---->\n",
      "3 ---->\n",
      "4 ---->\n",
      "5 ---->\n",
      "6 ---->\n",
      "7 ---->\n",
      "8 ---->\n",
      "9 ---->\n",
      "10 ---->\n",
      "11 ---->\n"
     ]
    }
   ],
   "source": [
    "rno = [1,2,3,4,5,6,7,8,9,10]\n",
    "print(rno)\n",
    "print(rno[0])\n",
    "for i in rno:\n",
    "    print(i+1, '---->')"
   ]
  },
  {
   "cell_type": "code",
   "execution_count": 9,
   "metadata": {},
   "outputs": [
    {
     "name": "stdout",
     "output_type": "stream",
     "text": [
      "[3, 4, 5, 6, 7, 8, 9, 10, 11, 12]\n"
     ]
    }
   ],
   "source": [
    "rno = [1,2,3,4,5,6,7,8,9,10]\n",
    "l=len(rno)\n",
    "for i in range (l):\n",
    "    rno[i]=rno[i]+2\n",
    "print(rno)"
   ]
  },
  {
   "cell_type": "code",
   "execution_count": 11,
   "metadata": {},
   "outputs": [
    {
     "name": "stdout",
     "output_type": "stream",
     "text": [
      "2\n",
      "4\n",
      "6\n",
      "8\n",
      "10\n"
     ]
    }
   ],
   "source": [
    "rno = [1,2,3,4,5,6,7,8,9,10]\n",
    "l=len(rno)\n",
    "for i in range (l):\n",
    "    if (rno[i]%2==0):\n",
    "        print(rno[i])"
   ]
  },
  {
   "cell_type": "code",
   "execution_count": null,
   "metadata": {},
   "outputs": [],
   "source": []
  }
 ],
 "metadata": {
  "kernelspec": {
   "display_name": "Python 3",
   "language": "python",
   "name": "python3"
  },
  "language_info": {
   "codemirror_mode": {
    "name": "ipython",
    "version": 3
   },
   "file_extension": ".py",
   "mimetype": "text/x-python",
   "name": "python",
   "nbconvert_exporter": "python",
   "pygments_lexer": "ipython3",
   "version": "3.8.5"
  }
 },
 "nbformat": 4,
 "nbformat_minor": 4
}
