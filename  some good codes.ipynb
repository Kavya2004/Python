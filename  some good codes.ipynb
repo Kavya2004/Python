{
 "cells": [
  {
   "cell_type": "code",
   "execution_count": 8,
   "metadata": {},
   "outputs": [
    {
     "name": "stdout",
     "output_type": "stream",
     "text": [
      "Enter 1st number : 1\n",
      "Enter 2nd number : 1\n",
      "Enter 3rd number : 1\n",
      "Sum of non-duplicate numbers is 0.\n"
     ]
    }
   ],
   "source": [
    "#sum of non duplicate numbers\n",
    "x = float(input(\"Enter 1st number : \"))\n",
    "y = float(input(\"Enter 2nd number : \"))\n",
    "z = float(input(\"Enter 3rd number : \"))\n",
    "if x==y and y==z and x==z :\n",
    "    print(\"Sum of non-duplicate numbers is 0.\")\n",
    "elif x==y:\n",
    "    print(\"Sum of non-duplicate numbers is \", z)\n",
    "elif y==z:\n",
    "    print(\"Sum of non-duplicate numbers is \", x)\n",
    "elif x==z:\n",
    "    print(\"Sum of non-duplicate numbers is \", y)\n",
    "else:\n",
    "    print(\"Sum of non-duplicate numbers is \", x+z+y)"
   ]
  },
  {
   "cell_type": "code",
   "execution_count": null,
   "metadata": {},
   "outputs": [
    {
     "name": "stdout",
     "output_type": "stream",
     "text": [
      "Enter first number : 2\n",
      "Enter Operator : +\n",
      "Enter second number : 2\n",
      "4.0\n",
      "press a to continue : A\n"
     ]
    }
   ],
   "source": [
    "#calculator\n",
    "c='a'\n",
    "while (c=='a' or c =='A'):\n",
    "    x = float(input(\"Enter first number : \"))\n",
    "    o = input(\"Enter Operator : \")\n",
    "    y = float(input(\"Enter second number : \"))\n",
    "    if o==\"+\":\n",
    "        print(x+y)\n",
    "    elif o==\"-\":\n",
    "        print(x-y)\n",
    "    elif o==\"*\":\n",
    "        print(x*y)\n",
    "    elif o==\"/\":\n",
    "        print(x/y)\n",
    "    else:\n",
    "        exit\n",
    "    c=input(\"press a to continue : \")"
   ]
  },
  {
   "cell_type": "code",
   "execution_count": null,
   "metadata": {},
   "outputs": [],
   "source": [
    "color = input(\"Enter a color : \")\n",
    "plural_noun = input(\"Enter a plural noun : \")\n",
    "emotion = input(\"Enter a celebrity : \")\n",
    "print(\"Roses are \",color)\n",
    "print(plural_noun,\"are blue.\")\n",
    "print(\"I love \", celebrity)"
   ]
  }
 ],
 "metadata": {
  "kernelspec": {
   "display_name": "Python 3",
   "language": "python",
   "name": "python3"
  },
  "language_info": {
   "codemirror_mode": {
    "name": "ipython",
    "version": 3
   },
   "file_extension": ".py",
   "mimetype": "text/x-python",
   "name": "python",
   "nbconvert_exporter": "python",
   "pygments_lexer": "ipython3",
   "version": "3.8.5"
  }
 },
 "nbformat": 4,
 "nbformat_minor": 4
}
