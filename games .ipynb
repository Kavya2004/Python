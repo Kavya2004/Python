{
 "cells": [
  {
   "cell_type": "code",
   "execution_count": 1,
   "metadata": {},
   "outputs": [
    {
     "name": "stdout",
     "output_type": "stream",
     "text": [
      ">help\n",
      "\n",
      "start - to start the car\n",
      "stop - to stop the car\n",
      "quit - to leave the game\n",
      "        \n",
      ">start\n",
      "Car started\n",
      ">stop\n",
      "Car stopped\n",
      ">quit\n"
     ]
    }
   ],
   "source": [
    "#car game\n",
    "command = \"\"\n",
    "started = False\n",
    "while True:\n",
    "    command = input(\">\").lower()\n",
    "    if command == \"start\":\n",
    "        if started:\n",
    "            print(\"Car has alreay started.\")\n",
    "        else:\n",
    "            started = True\n",
    "            print(\"Car started\")\n",
    "    elif command == \"stop\":\n",
    "        if not started:\n",
    "            print(\"Car is already stopped.\")\n",
    "        else:\n",
    "            started = False\n",
    "            print(\"Car stopped\")\n",
    "    elif command == \"help\":\n",
    "        print(\"\"\"\n",
    "start - to start the car\n",
    "stop - to stop the car\n",
    "quit - to leave the game\n",
    "        \"\"\")\n",
    "    elif command == \"quit\":\n",
    "        break\n",
    "    else:\n",
    "        print(\"Invalid command. \" )       "
   ]
  },
  {
   "cell_type": "code",
   "execution_count": 2,
   "metadata": {},
   "outputs": [
    {
     "name": "stdout",
     "output_type": "stream",
     "text": [
      "Guess the number : 3\n",
      "Guess the number : 4\n",
      "Big Brain, you guessed correct!\n"
     ]
    }
   ],
   "source": [
    "#Guess the number\n",
    "secret_number = 4\n",
    "guess_count = 0\n",
    "guess_limit = 3\n",
    "while guess_count < guess_limit:\n",
    "    guess = int(input(\"Guess the number : \"))\n",
    "    guess_count += 1 #to make it understand that 1 guess and so on have been made\n",
    "    if guess == secret_number:\n",
    "        print(\"Big Brain, you guessed correct!\")\n",
    "        break\n",
    "else:\n",
    "    print(\"What a noob, couldn't even guess a number.\")"
   ]
  },
  {
   "cell_type": "code",
   "execution_count": 1,
   "metadata": {},
   "outputs": [
    {
     "name": "stdout",
     "output_type": "stream",
     "text": [
      "Enter a color : red\n",
      "Enter a plural noun : skies\n",
      "Enter a celebrity : you\n",
      "Roses are  red\n",
      "skies are blue\n",
      "I love you\n"
     ]
    }
   ],
   "source": [
    "#Madlib game\n",
    "color = input(\"Enter a color : \")\n",
    "plural_noun = input(\"Enter a plural noun : \")\n",
    "celebrity = input(\"Enter a celebrity : \")\n",
    "print(\"Roses are \",color)\n",
    "print(plural_noun,\"are blue\")\n",
    "print(\"I love\", celebrity)"
   ]
  },
  {
   "cell_type": "code",
   "execution_count": 2,
   "metadata": {},
   "outputs": [
    {
     "name": "stdout",
     "output_type": "stream",
     "text": [
      "Guess the number : 3\n",
      "You used 1 guesses.\n",
      "Guess the number : 5\n",
      "You used 2 guesses.\n",
      "Big Brain, you guessed correct!\n"
     ]
    }
   ],
   "source": [
    "#Guess the number\n",
    "import random\n",
    "secret_number = random.randint(0, 10)\n",
    "guess_count = 0\n",
    "guess_limit = 3\n",
    "while guess_count < guess_limit:\n",
    "    guess = int(input(\"Guess the number : \"))\n",
    "    guess_count += 1 #to make it understand that 1 guess and so on have been made\n",
    "    print(\"You used {} guesses.\".format(guess_count))\n",
    "    if guess == secret_number:\n",
    "        print(\"Big Brain, you guessed correct!\")\n",
    "        break\n",
    "else:\n",
    "    print(\"What a noob, couldn't even guess a number.\")\n",
    "    print(\"The number was {}\".format(secret_number))"
   ]
  },
  {
   "cell_type": "code",
   "execution_count": 17,
   "metadata": {},
   "outputs": [
    {
     "name": "stdout",
     "output_type": "stream",
     "text": [
      "1 = Enter marks\n",
      "2 = Total marks\n",
      "3 = Percentage\n",
      "Enter choice : 2\n",
      "Enter marks in physics : 100\n",
      "Enter marks in chemistry : 89\n",
      "Enter marks in maths : 98\n",
      "Enter marks in english : 97\n",
      "Enter marks in cs : 99\n",
      "Total marks are  483.0\n"
     ]
    }
   ],
   "source": [
    "# marks calculator\n",
    "print(\"1 = Enter marks\")\n",
    "print(\"2 = Total marks\")\n",
    "print(\"3 = Percentage\")\n",
    "ch = int(input(\"Enter choice : \"))\n",
    "if ch==1:\n",
    "    a = float(input(\"Enter marks in physics : \"))\n",
    "    b = float(input(\"Enter marks in chemistry : \"))\n",
    "    c = float(input(\"Enter marks in maths : \"))\n",
    "    d = float(input(\"Enter marks in english : \"))\n",
    "    e = float(input(\"Enter marks in cs : \"))\n",
    "elif ch==2:\n",
    "    a = float(input(\"Enter marks in physics : \"))\n",
    "    b = float(input(\"Enter marks in chemistry : \"))\n",
    "    c = float(input(\"Enter marks in maths : \"))\n",
    "    d = float(input(\"Enter marks in english : \"))\n",
    "    e = float(input(\"Enter marks in cs : \"))\n",
    "    print(\"Total marks are \", a+b+c+d+e)\n",
    "elif ch==3:\n",
    "    a = float(input(\"Enter marks in physics : \"))\n",
    "    b = float(input(\"Enter marks in chemistry : \"))\n",
    "    c = float(input(\"Enter marks in maths : \"))\n",
    "    d = float(input(\"Enter marks in english : \"))\n",
    "    e = float(input(\"Enter marks in cs : \"))\n",
    "    print(\"Percentage is \", a+b+c+d+e*100/500)\n",
    "else:\n",
    "    exit"
   ]
  }
 ],
 "metadata": {
  "kernelspec": {
   "display_name": "Python 3",
   "language": "python",
   "name": "python3"
  },
  "language_info": {
   "codemirror_mode": {
    "name": "ipython",
    "version": 3
   },
   "file_extension": ".py",
   "mimetype": "text/x-python",
   "name": "python",
   "nbconvert_exporter": "python",
   "pygments_lexer": "ipython3",
   "version": "3.8.5"
  }
 },
 "nbformat": 4,
 "nbformat_minor": 4
}
