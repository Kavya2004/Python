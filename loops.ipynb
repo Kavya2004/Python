{
 "cells": [
  {
   "cell_type": "code",
   "execution_count": 1,
   "metadata": {},
   "outputs": [
    {
     "name": "stdout",
     "output_type": "stream",
     "text": [
      "1\n",
      "3\n",
      "5\n",
      "7\n",
      "9\n",
      "11\n",
      "13\n",
      "15\n",
      "17\n",
      "19\n"
     ]
    }
   ],
   "source": [
    "#print all the odd nos. less than 20\n",
    "for i in range(20):\n",
    "    if(i%2==1):\n",
    "        print(i)"
   ]
  },
  {
   "cell_type": "code",
   "execution_count": 6,
   "metadata": {},
   "outputs": [
    {
     "name": "stdout",
     "output_type": "stream",
     "text": [
      "Enter your number: 5\n",
      "*\n",
      "**\n",
      "***\n",
      "****\n",
      "*****\n"
     ]
    }
   ],
   "source": [
    "n = int(input(\"Enter your number: \"))\n",
    "for r in range(1,n+1):\n",
    "    for c in range(1,r+1):\n",
    "        print(\"*\", end=\"\")\n",
    "    print(\"\")"
   ]
  },
  {
   "cell_type": "code",
   "execution_count": null,
   "metadata": {},
   "outputs": [],
   "source": [
    "i=0\n",
    "sum=0\n",
    "while i<9:\n",
    "    if i%4==0:\n",
    "        sum=sum+i\n",
    "        i=i+2\n",
    "print(sum)"
   ]
  },
  {
   "cell_type": "code",
   "execution_count": 18,
   "metadata": {},
   "outputs": [
    {
     "name": "stdout",
     "output_type": "stream",
     "text": [
      "0\n",
      "#\n",
      "#\n",
      "#\n",
      "4\n",
      "Loop over\n"
     ]
    }
   ],
   "source": [
    "for i in range (5):\n",
    "    if i%4==0:\n",
    "        print(i)\n",
    "    else:\n",
    "        print(\"#\") #0%4=0 and 4%4=0 so only they both printed else became #\n",
    "else:\n",
    "    print(\"Loop over\")"
   ]
  },
  {
   "cell_type": "code",
   "execution_count": 2,
   "metadata": {},
   "outputs": [
    {
     "name": "stdout",
     "output_type": "stream",
     "text": [
      "Enter the string: kavya\n",
      "k\n",
      "#\n",
      "v\n",
      "y\n",
      "#\n"
     ]
    }
   ],
   "source": [
    "x = input(\"Enter the string: \")\n",
    "for i in x:\n",
    "    if (i=='a' or i=='e' or i=='i' or i=='o' or i=='u'):\n",
    "        print(\"#\")\n",
    "    else:\n",
    "        print(i)"
   ]
  },
  {
   "cell_type": "code",
   "execution_count": 15,
   "metadata": {},
   "outputs": [
    {
     "name": "stdout",
     "output_type": "stream",
     "text": [
      "140#250#"
     ]
    }
   ],
   "source": [
    "import random\n",
    "a = [120,230,140,250,160,270]\n",
    "l = random.randint(1,3)\n",
    "u = random.randint(2,4)\n",
    "for p in range (l,u+1):\n",
    "    print(a[p], end=\"#\")"
   ]
  },
  {
   "cell_type": "code",
   "execution_count": 27,
   "metadata": {},
   "outputs": [
    {
     "name": "stdout",
     "output_type": "stream",
     "text": [
      "1\n",
      "2\n",
      "3\n"
     ]
    }
   ],
   "source": [
    "for i in range (1,5): #0 cant take as 0%3=0 so loop will break\n",
    "    print(i)\n",
    "    if i%3==0:\n",
    "        break\n",
    "else:\n",
    "    print(\"Loop over\")"
   ]
  },
  {
   "cell_type": "code",
   "execution_count": 26,
   "metadata": {},
   "outputs": [
    {
     "name": "stdout",
     "output_type": "stream",
     "text": [
      "1\n",
      "2\n",
      "3\n",
      "4\n",
      "Loop over\n"
     ]
    }
   ],
   "source": [
    "for i in range (1,5): #0 cant take \n",
    "    print(i)\n",
    "    if i%7==0:\n",
    "        break\n",
    "else:\n",
    "    print(\"Loop over\")"
   ]
  },
  {
   "cell_type": "code",
   "execution_count": 1,
   "metadata": {},
   "outputs": [
    {
     "name": "stdout",
     "output_type": "stream",
     "text": [
      "1\n",
      "2\n",
      "3\n",
      "4\n",
      "Loop over\n"
     ]
    }
   ],
   "source": [
    "i = 1\n",
    "while i<5:\n",
    "    print(i)\n",
    "    if i%7==0:\n",
    "        break\n",
    "    i =i+1\n",
    "else:\n",
    "    print(\"Loop over\")"
   ]
  },
  {
   "cell_type": "code",
   "execution_count": 2,
   "metadata": {},
   "outputs": [
    {
     "name": "stdout",
     "output_type": "stream",
     "text": [
      "Enter number : 9\n",
      "Number is composite\n"
     ]
    }
   ],
   "source": [
    "#print prime numbers\n",
    "x = int(input(\"Enter number : \"))\n",
    "f = 0\n",
    "for i in range(2, x//2+1):\n",
    "        if x%i==0:\n",
    "            f=1\n",
    "if f==1:\n",
    "        print(\"Number is composite\")\n",
    "else:\n",
    "    print(\"Number is prime\")       "
   ]
  },
  {
   "cell_type": "code",
   "execution_count": 1,
   "metadata": {},
   "outputs": [
    {
     "name": "stdout",
     "output_type": "stream",
     "text": [
      "0\n",
      "1\n",
      "2\n",
      "Loop Over\n"
     ]
    }
   ],
   "source": [
    "#for to while\n",
    "i=0\n",
    "while i<3:\n",
    "    print(i)\n",
    "    i=i+1\n",
    "else:\n",
    "    print(\"Loop Over\")"
   ]
  },
  {
   "cell_type": "code",
   "execution_count": 7,
   "metadata": {},
   "outputs": [
    {
     "name": "stdout",
     "output_type": "stream",
     "text": [
      "0\n",
      "1\n",
      "2\n",
      "3\n",
      "4\n",
      "5\n",
      "6\n",
      "7\n",
      "8\n",
      "9\n"
     ]
    }
   ],
   "source": [
    " \n",
    "for i in range (0, 10):\n",
    "    print(i)"
   ]
  },
  {
   "cell_type": "code",
   "execution_count": 2,
   "metadata": {},
   "outputs": [
    {
     "name": "stdout",
     "output_type": "stream",
     "text": [
      "Enter your gmail : k@\n",
      "Valid id\n"
     ]
    }
   ],
   "source": [
    "#Write a program to check  valid email\n",
    "a = input(\"Enter your gmail : \")\n",
    "for i in a:\n",
    "    if i=='@':\n",
    "        print(\"Valid id\")\n",
    "        break\n",
    "else:\n",
    "    print(\"Invalid id\")"
   ]
  },
  {
   "cell_type": "code",
   "execution_count": 8,
   "metadata": {},
   "outputs": [
    {
     "name": "stdout",
     "output_type": "stream",
     "text": [
      "Enter your number : 123456789\n",
      "Reverse number is : 987654321\n"
     ]
    }
   ],
   "source": [
    "#reverse a number (% is remainder)\n",
    "x = int(input(\"Enter your number : \"))\n",
    "n = 0\n",
    "while x>0:\n",
    "    n = n*10+x%10\n",
    "    x = x//10\n",
    "print(\"Reverse number is :\", n)"
   ]
  },
  {
   "cell_type": "code",
   "execution_count": null,
   "metadata": {},
   "outputs": [],
   "source": [
    "x = int(input(\"Enter your number: \"))\n",
    "n = 0\n",
    "n1=x\n",
    "while x>0:\n",
    "    n=n*10+x%10\n",
    "    x=x//10\n",
    "if n1==n:\n",
    "    print(\"number is palindrome\")\n",
    "else:\n",
    "    print(\"number is not palindrome\")"
   ]
  },
  {
   "cell_type": "code",
   "execution_count": 8,
   "metadata": {},
   "outputs": [
    {
     "name": "stdout",
     "output_type": "stream",
     "text": [
      "Enter your number : 121\n",
      "The number is a palindrome.\n",
      "Reverse number is : 121\n"
     ]
    }
   ],
   "source": [
    "#palindrome of a number\n",
    "n = int(input(\"Enter your number : \"))\n",
    "n1=n\n",
    "s=0\n",
    "while n>0:\n",
    "    r = n%10\n",
    "    n=n//10\n",
    "    s=r+s*10\n",
    "if n1==s:\n",
    "    print(\"The number is a palindrome.\")\n",
    "    print(\"Reverse number is :\", s)\n",
    "else:\n",
    "    print(\"The number is not a palindrome\")\n",
    "    print(\"Reverse number is :\", s)"
   ]
  },
  {
   "cell_type": "code",
   "execution_count": 12,
   "metadata": {},
   "outputs": [
    {
     "name": "stdout",
     "output_type": "stream",
     "text": [
      "1\n",
      "5\n",
      "9\n"
     ]
    }
   ],
   "source": [
    "for i in range(1,10,4): #jumps to number after 4 digits\n",
    "    print(i)"
   ]
  },
  {
   "cell_type": "code",
   "execution_count": 16,
   "metadata": {},
   "outputs": [
    {
     "name": "stdout",
     "output_type": "stream",
     "text": [
      "1  **** \n",
      "2  **** \n",
      "3  **** \n",
      "4  **** \n"
     ]
    }
   ],
   "source": [
    "for i in range(1,5):\n",
    "    print(i,\" **** \")"
   ]
  },
  {
   "cell_type": "code",
   "execution_count": 17,
   "metadata": {},
   "outputs": [
    {
     "name": "stdout",
     "output_type": "stream",
     "text": [
      "0  :  0\n",
      "0  :  1\n",
      "0  :  2\n",
      "1  :  0\n",
      "1  :  1\n",
      "1  :  2\n",
      "2  :  0\n",
      "2  :  1\n",
      "2  :  2\n"
     ]
    }
   ],
   "source": [
    "for i in range (3): #i-0,1,2\n",
    "    for j in range (3): #j-0,1,2\n",
    "        print(i, ' : ', j)\n",
    "#0 of i combines with 0,1,2 of j and so on...."
   ]
  },
  {
   "cell_type": "code",
   "execution_count": 18,
   "metadata": {},
   "outputs": [
    {
     "name": "stdout",
     "output_type": "stream",
     "text": [
      "0  :  0\n",
      "0  :  1\n",
      "0  :  2\n",
      "1  :  0\n",
      "1  :  1\n",
      "1  :  2\n"
     ]
    }
   ],
   "source": [
    "for i in range (2): \n",
    "    for j in range (3):\n",
    "        print(i, ' : ', j)"
   ]
  },
  {
   "cell_type": "code",
   "execution_count": 8,
   "metadata": {},
   "outputs": [
    {
     "name": "stdout",
     "output_type": "stream",
     "text": [
      "Enter your number : 5\n",
      "The sum is  15\n"
     ]
    }
   ],
   "source": [
    "#accept number from user and calculate the sum of all nos. from 1 to a given number using for loop\n",
    "sum =0\n",
    "x = int(input(\"Enter your number : \"))\n",
    "for i in range (1,x+1):\n",
    "    sum = sum+i\n",
    "print(\"The sum is \", sum)"
   ]
  },
  {
   "cell_type": "code",
   "execution_count": 1,
   "metadata": {},
   "outputs": [
    {
     "name": "stdout",
     "output_type": "stream",
     "text": [
      "10\n",
      "9\n",
      "8\n",
      "7\n",
      "6\n",
      "5\n",
      "4\n",
      "3\n",
      "2\n",
      "1\n"
     ]
    }
   ],
   "source": [
    "#output form 10 to 1\n",
    "t = 10\n",
    "while t>0:\n",
    "    print(t)\n",
    "    t=t-1"
   ]
  },
  {
   "cell_type": "code",
   "execution_count": 2,
   "metadata": {},
   "outputs": [
    {
     "name": "stdout",
     "output_type": "stream",
     "text": [
      "H @\n",
      "e @\n",
      "l @\n",
      "l @\n",
      "o @\n"
     ]
    }
   ],
   "source": [
    "#int, float, string\n",
    "a = \"Hello\"\n",
    "for i in a:\n",
    "    print(i,\"@\")"
   ]
  },
  {
   "cell_type": "code",
   "execution_count": 5,
   "metadata": {},
   "outputs": [
    {
     "name": "stdout",
     "output_type": "stream",
     "text": [
      "Enter your gmail : k@gmail.com\n",
      "Valid id\n"
     ]
    }
   ],
   "source": [
    "#Write a program to check  valid email\n",
    "a = input(\"Enter your gmail : \")\n",
    "for i in a:\n",
    "    if i=='@':\n",
    "        print(\"Valid id\")\n",
    "        break\n",
    "else:\n",
    "    print(\"Invalid id\")"
   ]
  },
  {
   "cell_type": "code",
   "execution_count": 7,
   "metadata": {},
   "outputs": [
    {
     "name": "stdout",
     "output_type": "stream",
     "text": [
      "30\n"
     ]
    }
   ],
   "source": [
    "#total of nos.\n",
    "total = 0\n",
    "for i in range(0,11):\n",
    "    if i%2==0:\n",
    "        total+=i\n",
    "print(total)"
   ]
  },
  {
   "cell_type": "code",
   "execution_count": 8,
   "metadata": {},
   "outputs": [
    {
     "name": "stdout",
     "output_type": "stream",
     "text": [
      "Enter your number : 123456789\n",
      "Reverse number is : 987654321\n"
     ]
    }
   ],
   "source": [
    "#reverse a number (% is remainder)\n",
    "x = int(input(\"Enter your number : \"))\n",
    "n = 0\n",
    "while x>0:\n",
    "    n = n*10+x%10\n",
    "    x = x//10\n",
    "print(\"Reverse number is :\", n)\n",
    "    "
   ]
  },
  {
   "cell_type": "code",
   "execution_count": 9,
   "metadata": {},
   "outputs": [
    {
     "name": "stdout",
     "output_type": "stream",
     "text": [
      "Enter your words : Hello, my name is Kavya Saluja.\n",
      "Spaces in sentence are 5\n"
     ]
    }
   ],
   "source": [
    "#How may spaces are there in given string\n",
    "c=0\n",
    "a = input(\"Enter your words : \")\n",
    "for i in a:\n",
    "    if i==' ':\n",
    "        c=c+1\n",
    "print(\"Spaces in sentence are\", c)"
   ]
  }
 ],
 "metadata": {
  "kernelspec": {
   "display_name": "Python 3",
   "language": "python",
   "name": "python3"
  },
  "language_info": {
   "codemirror_mode": {
    "name": "ipython",
    "version": 3
   },
   "file_extension": ".py",
   "mimetype": "text/x-python",
   "name": "python",
   "nbconvert_exporter": "python",
   "pygments_lexer": "ipython3",
   "version": "3.8.5"
  }
 },
 "nbformat": 4,
 "nbformat_minor": 4
}
